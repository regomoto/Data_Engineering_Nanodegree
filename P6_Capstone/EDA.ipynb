{
 "cells": [
  {
   "cell_type": "code",
   "execution_count": 2,
   "metadata": {
    "editable": true
   },
   "outputs": [],
   "source": [
    "# Do all imports and installs here\n",
    "import pandas as pd\n",
    "import numpy as np\n",
    "import os\n",
    "import glob"
   ]
  },
  {
   "cell_type": "markdown",
   "metadata": {
    "editable": true
   },
   "source": [
    "## Immigration data:\n",
    "- There are 29 columns\n",
    "- Only some of the columns should be in the fact tables and extracted during the ETL process. \n",
    "- One column has all null values in the dataset. Some have most of the their values as nulls. Should exclude these from dataset\n",
    "- Columns that are integers are being read in as floats. When performing ETL, ensure that these are read in as integers\n",
    "- \"arrdate\" represents arrival data. Currently a float.\n",
    " - Since data was originally in SAS format, need to use SAS date formats to transform this column into a date data type\n",
    "- There are numbers representing certain values for a few of these columns. Interesting ones of note are:\n",
    " - i94cit and i94res are numbers representing cities. Need to refer to data dictionary for clarification and details. May need to add corresponding names for these values somewhere in the data if none of the other datasets contain this information. "
   ]
  },
  {
   "cell_type": "code",
   "execution_count": 2,
   "metadata": {
    "editable": true
   },
   "outputs": [],
   "source": [
    "# Read in data\n",
    "data = pd.read_csv(os.getcwd() + '/immigration_data_sample.csv')"
   ]
  },
  {
   "cell_type": "code",
   "execution_count": 1,
   "metadata": {
    "editable": true
   },
   "outputs": [],
   "source": [
    "# See column names, number or rows and columns, and a high level overview of the nulls in the sample\n",
    "data.info()"
   ]
  },
  {
   "cell_type": "code",
   "execution_count": 26,
   "metadata": {
    "editable": true
   },
   "outputs": [
    {
     "data": {
      "text/html": [
       "<div>\n",
       "<style scoped>\n",
       "    .dataframe tbody tr th:only-of-type {\n",
       "        vertical-align: middle;\n",
       "    }\n",
       "\n",
       "    .dataframe tbody tr th {\n",
       "        vertical-align: top;\n",
       "    }\n",
       "\n",
       "    .dataframe thead th {\n",
       "        text-align: right;\n",
       "    }\n",
       "</style>\n",
       "<table border=\"1\" class=\"dataframe\">\n",
       "  <thead>\n",
       "    <tr style=\"text-align: right;\">\n",
       "      <th></th>\n",
       "      <th>Unnamed: 0</th>\n",
       "      <th>cicid</th>\n",
       "      <th>i94yr</th>\n",
       "      <th>i94mon</th>\n",
       "      <th>i94cit</th>\n",
       "      <th>i94res</th>\n",
       "      <th>i94port</th>\n",
       "      <th>arrdate</th>\n",
       "      <th>i94mode</th>\n",
       "      <th>i94addr</th>\n",
       "      <th>...</th>\n",
       "      <th>entdepu</th>\n",
       "      <th>matflag</th>\n",
       "      <th>biryear</th>\n",
       "      <th>dtaddto</th>\n",
       "      <th>gender</th>\n",
       "      <th>insnum</th>\n",
       "      <th>airline</th>\n",
       "      <th>admnum</th>\n",
       "      <th>fltno</th>\n",
       "      <th>visatype</th>\n",
       "    </tr>\n",
       "  </thead>\n",
       "  <tbody>\n",
       "    <tr>\n",
       "      <th>0</th>\n",
       "      <td>2027561</td>\n",
       "      <td>4084316.0</td>\n",
       "      <td>2016.0</td>\n",
       "      <td>4.0</td>\n",
       "      <td>209.0</td>\n",
       "      <td>209.0</td>\n",
       "      <td>HHW</td>\n",
       "      <td>20566.0</td>\n",
       "      <td>1.0</td>\n",
       "      <td>HI</td>\n",
       "      <td>...</td>\n",
       "      <td>NaN</td>\n",
       "      <td>M</td>\n",
       "      <td>1955.0</td>\n",
       "      <td>07202016</td>\n",
       "      <td>F</td>\n",
       "      <td>NaN</td>\n",
       "      <td>JL</td>\n",
       "      <td>5.658267e+10</td>\n",
       "      <td>00782</td>\n",
       "      <td>WT</td>\n",
       "    </tr>\n",
       "    <tr>\n",
       "      <th>1</th>\n",
       "      <td>2171295</td>\n",
       "      <td>4422636.0</td>\n",
       "      <td>2016.0</td>\n",
       "      <td>4.0</td>\n",
       "      <td>582.0</td>\n",
       "      <td>582.0</td>\n",
       "      <td>MCA</td>\n",
       "      <td>20567.0</td>\n",
       "      <td>1.0</td>\n",
       "      <td>TX</td>\n",
       "      <td>...</td>\n",
       "      <td>NaN</td>\n",
       "      <td>M</td>\n",
       "      <td>1990.0</td>\n",
       "      <td>10222016</td>\n",
       "      <td>M</td>\n",
       "      <td>NaN</td>\n",
       "      <td>*GA</td>\n",
       "      <td>9.436200e+10</td>\n",
       "      <td>XBLNG</td>\n",
       "      <td>B2</td>\n",
       "    </tr>\n",
       "    <tr>\n",
       "      <th>2</th>\n",
       "      <td>589494</td>\n",
       "      <td>1195600.0</td>\n",
       "      <td>2016.0</td>\n",
       "      <td>4.0</td>\n",
       "      <td>148.0</td>\n",
       "      <td>112.0</td>\n",
       "      <td>OGG</td>\n",
       "      <td>20551.0</td>\n",
       "      <td>1.0</td>\n",
       "      <td>FL</td>\n",
       "      <td>...</td>\n",
       "      <td>NaN</td>\n",
       "      <td>M</td>\n",
       "      <td>1940.0</td>\n",
       "      <td>07052016</td>\n",
       "      <td>M</td>\n",
       "      <td>NaN</td>\n",
       "      <td>LH</td>\n",
       "      <td>5.578047e+10</td>\n",
       "      <td>00464</td>\n",
       "      <td>WT</td>\n",
       "    </tr>\n",
       "    <tr>\n",
       "      <th>3</th>\n",
       "      <td>2631158</td>\n",
       "      <td>5291768.0</td>\n",
       "      <td>2016.0</td>\n",
       "      <td>4.0</td>\n",
       "      <td>297.0</td>\n",
       "      <td>297.0</td>\n",
       "      <td>LOS</td>\n",
       "      <td>20572.0</td>\n",
       "      <td>1.0</td>\n",
       "      <td>CA</td>\n",
       "      <td>...</td>\n",
       "      <td>NaN</td>\n",
       "      <td>M</td>\n",
       "      <td>1991.0</td>\n",
       "      <td>10272016</td>\n",
       "      <td>M</td>\n",
       "      <td>NaN</td>\n",
       "      <td>QR</td>\n",
       "      <td>9.478970e+10</td>\n",
       "      <td>00739</td>\n",
       "      <td>B2</td>\n",
       "    </tr>\n",
       "    <tr>\n",
       "      <th>4</th>\n",
       "      <td>3032257</td>\n",
       "      <td>985523.0</td>\n",
       "      <td>2016.0</td>\n",
       "      <td>4.0</td>\n",
       "      <td>111.0</td>\n",
       "      <td>111.0</td>\n",
       "      <td>CHM</td>\n",
       "      <td>20550.0</td>\n",
       "      <td>3.0</td>\n",
       "      <td>NY</td>\n",
       "      <td>...</td>\n",
       "      <td>NaN</td>\n",
       "      <td>M</td>\n",
       "      <td>1997.0</td>\n",
       "      <td>07042016</td>\n",
       "      <td>F</td>\n",
       "      <td>NaN</td>\n",
       "      <td>NaN</td>\n",
       "      <td>4.232257e+10</td>\n",
       "      <td>LAND</td>\n",
       "      <td>WT</td>\n",
       "    </tr>\n",
       "  </tbody>\n",
       "</table>\n",
       "<p>5 rows × 29 columns</p>\n",
       "</div>"
      ],
      "text/plain": [
       "   Unnamed: 0      cicid   i94yr  i94mon  i94cit  i94res i94port  arrdate  \\\n",
       "0     2027561  4084316.0  2016.0     4.0   209.0   209.0     HHW  20566.0   \n",
       "1     2171295  4422636.0  2016.0     4.0   582.0   582.0     MCA  20567.0   \n",
       "2      589494  1195600.0  2016.0     4.0   148.0   112.0     OGG  20551.0   \n",
       "3     2631158  5291768.0  2016.0     4.0   297.0   297.0     LOS  20572.0   \n",
       "4     3032257   985523.0  2016.0     4.0   111.0   111.0     CHM  20550.0   \n",
       "\n",
       "   i94mode i94addr    ...     entdepu  matflag  biryear   dtaddto  gender  \\\n",
       "0      1.0      HI    ...         NaN        M   1955.0  07202016       F   \n",
       "1      1.0      TX    ...         NaN        M   1990.0  10222016       M   \n",
       "2      1.0      FL    ...         NaN        M   1940.0  07052016       M   \n",
       "3      1.0      CA    ...         NaN        M   1991.0  10272016       M   \n",
       "4      3.0      NY    ...         NaN        M   1997.0  07042016       F   \n",
       "\n",
       "  insnum airline        admnum  fltno  visatype  \n",
       "0    NaN      JL  5.658267e+10  00782        WT  \n",
       "1    NaN     *GA  9.436200e+10  XBLNG        B2  \n",
       "2    NaN      LH  5.578047e+10  00464        WT  \n",
       "3    NaN      QR  9.478970e+10  00739        B2  \n",
       "4    NaN     NaN  4.232257e+10   LAND        WT  \n",
       "\n",
       "[5 rows x 29 columns]"
      ]
     },
     "execution_count": 26,
     "metadata": {},
     "output_type": "execute_result"
    }
   ],
   "source": [
    "# See first five rows\n",
    "data.head()"
   ]
  },
  {
   "cell_type": "code",
   "execution_count": 5,
   "metadata": {
    "editable": true
   },
   "outputs": [
    {
     "data": {
      "text/html": [
       "<div>\n",
       "<style scoped>\n",
       "    .dataframe tbody tr th:only-of-type {\n",
       "        vertical-align: middle;\n",
       "    }\n",
       "\n",
       "    .dataframe tbody tr th {\n",
       "        vertical-align: top;\n",
       "    }\n",
       "\n",
       "    .dataframe thead th {\n",
       "        text-align: right;\n",
       "    }\n",
       "</style>\n",
       "<table border=\"1\" class=\"dataframe\">\n",
       "  <thead>\n",
       "    <tr style=\"text-align: right;\">\n",
       "      <th></th>\n",
       "      <th>i94addr</th>\n",
       "      <th>depdate</th>\n",
       "      <th>i94bir</th>\n",
       "      <th>i94visa</th>\n",
       "      <th>count</th>\n",
       "      <th>dtadfile</th>\n",
       "      <th>visapost</th>\n",
       "      <th>occup</th>\n",
       "      <th>entdepa</th>\n",
       "      <th>entdepd</th>\n",
       "      <th>entdepu</th>\n",
       "    </tr>\n",
       "  </thead>\n",
       "  <tbody>\n",
       "    <tr>\n",
       "      <th>0</th>\n",
       "      <td>HI</td>\n",
       "      <td>20573.0</td>\n",
       "      <td>61.0</td>\n",
       "      <td>2.0</td>\n",
       "      <td>1.0</td>\n",
       "      <td>20160422</td>\n",
       "      <td>NaN</td>\n",
       "      <td>NaN</td>\n",
       "      <td>G</td>\n",
       "      <td>O</td>\n",
       "      <td>NaN</td>\n",
       "    </tr>\n",
       "    <tr>\n",
       "      <th>1</th>\n",
       "      <td>TX</td>\n",
       "      <td>20568.0</td>\n",
       "      <td>26.0</td>\n",
       "      <td>2.0</td>\n",
       "      <td>1.0</td>\n",
       "      <td>20160423</td>\n",
       "      <td>MTR</td>\n",
       "      <td>NaN</td>\n",
       "      <td>G</td>\n",
       "      <td>R</td>\n",
       "      <td>NaN</td>\n",
       "    </tr>\n",
       "    <tr>\n",
       "      <th>2</th>\n",
       "      <td>FL</td>\n",
       "      <td>20571.0</td>\n",
       "      <td>76.0</td>\n",
       "      <td>2.0</td>\n",
       "      <td>1.0</td>\n",
       "      <td>20160407</td>\n",
       "      <td>NaN</td>\n",
       "      <td>NaN</td>\n",
       "      <td>G</td>\n",
       "      <td>O</td>\n",
       "      <td>NaN</td>\n",
       "    </tr>\n",
       "    <tr>\n",
       "      <th>3</th>\n",
       "      <td>CA</td>\n",
       "      <td>20581.0</td>\n",
       "      <td>25.0</td>\n",
       "      <td>2.0</td>\n",
       "      <td>1.0</td>\n",
       "      <td>20160428</td>\n",
       "      <td>DOH</td>\n",
       "      <td>NaN</td>\n",
       "      <td>G</td>\n",
       "      <td>O</td>\n",
       "      <td>NaN</td>\n",
       "    </tr>\n",
       "    <tr>\n",
       "      <th>4</th>\n",
       "      <td>NY</td>\n",
       "      <td>20553.0</td>\n",
       "      <td>19.0</td>\n",
       "      <td>2.0</td>\n",
       "      <td>1.0</td>\n",
       "      <td>20160406</td>\n",
       "      <td>NaN</td>\n",
       "      <td>NaN</td>\n",
       "      <td>Z</td>\n",
       "      <td>K</td>\n",
       "      <td>NaN</td>\n",
       "    </tr>\n",
       "  </tbody>\n",
       "</table>\n",
       "</div>"
      ],
      "text/plain": [
       "  i94addr  depdate  i94bir  i94visa  count  dtadfile visapost occup entdepa  \\\n",
       "0      HI  20573.0    61.0      2.0    1.0  20160422      NaN   NaN       G   \n",
       "1      TX  20568.0    26.0      2.0    1.0  20160423      MTR   NaN       G   \n",
       "2      FL  20571.0    76.0      2.0    1.0  20160407      NaN   NaN       G   \n",
       "3      CA  20581.0    25.0      2.0    1.0  20160428      DOH   NaN       G   \n",
       "4      NY  20553.0    19.0      2.0    1.0  20160406      NaN   NaN       Z   \n",
       "\n",
       "  entdepd  entdepu  \n",
       "0       O      NaN  \n",
       "1       R      NaN  \n",
       "2       O      NaN  \n",
       "3       O      NaN  \n",
       "4       K      NaN  "
      ]
     },
     "execution_count": 5,
     "metadata": {},
     "output_type": "execute_result"
    }
   ],
   "source": [
    "# See columns that were not shown above\n",
    "data.loc[:, 'i94addr':'entdepu'].head()"
   ]
  },
  {
   "cell_type": "code",
   "execution_count": 22,
   "metadata": {
    "editable": true
   },
   "outputs": [
    {
     "data": {
      "text/plain": [
       "1.0    962\n",
       "3.0     26\n",
       "2.0     10\n",
       "9.0      2\n",
       "Name: i94mode, dtype: int64"
      ]
     },
     "execution_count": 22,
     "metadata": {},
     "output_type": "execute_result"
    }
   ],
   "source": [
    "# How many immigrated using each mode category\n",
    "data['i94mode'].value_counts()"
   ]
  },
  {
   "cell_type": "code",
   "execution_count": 28,
   "metadata": {
    "editable": true
   },
   "outputs": [
    {
     "data": {
      "text/html": [
       "<div>\n",
       "<style scoped>\n",
       "    .dataframe tbody tr th:only-of-type {\n",
       "        vertical-align: middle;\n",
       "    }\n",
       "\n",
       "    .dataframe tbody tr th {\n",
       "        vertical-align: top;\n",
       "    }\n",
       "\n",
       "    .dataframe thead th {\n",
       "        text-align: right;\n",
       "    }\n",
       "</style>\n",
       "<table border=\"1\" class=\"dataframe\">\n",
       "  <thead>\n",
       "    <tr style=\"text-align: right;\">\n",
       "      <th></th>\n",
       "      <th>i94addr</th>\n",
       "      <th>i94res</th>\n",
       "      <th>i94cit</th>\n",
       "    </tr>\n",
       "  </thead>\n",
       "  <tbody>\n",
       "    <tr>\n",
       "      <th>0</th>\n",
       "      <td>HI</td>\n",
       "      <td>209.0</td>\n",
       "      <td>209.0</td>\n",
       "    </tr>\n",
       "    <tr>\n",
       "      <th>1</th>\n",
       "      <td>TX</td>\n",
       "      <td>582.0</td>\n",
       "      <td>582.0</td>\n",
       "    </tr>\n",
       "    <tr>\n",
       "      <th>2</th>\n",
       "      <td>FL</td>\n",
       "      <td>112.0</td>\n",
       "      <td>148.0</td>\n",
       "    </tr>\n",
       "    <tr>\n",
       "      <th>3</th>\n",
       "      <td>CA</td>\n",
       "      <td>297.0</td>\n",
       "      <td>297.0</td>\n",
       "    </tr>\n",
       "    <tr>\n",
       "      <th>4</th>\n",
       "      <td>NY</td>\n",
       "      <td>111.0</td>\n",
       "      <td>111.0</td>\n",
       "    </tr>\n",
       "  </tbody>\n",
       "</table>\n",
       "</div>"
      ],
      "text/plain": [
       "  i94addr  i94res  i94cit\n",
       "0      HI   209.0   209.0\n",
       "1      TX   582.0   582.0\n",
       "2      FL   112.0   148.0\n",
       "3      CA   297.0   297.0\n",
       "4      NY   111.0   111.0"
      ]
     },
     "execution_count": 28,
     "metadata": {},
     "output_type": "execute_result"
    }
   ],
   "source": [
    "# Unclear what i94 addr, i94res and i94 cit represents.\n",
    "# See some data to get a better understanding\n",
    "data[['i94addr','i94res','i94cit']].head()"
   ]
  },
  {
   "cell_type": "markdown",
   "metadata": {
    "editable": true
   },
   "source": [
    "Looking at a few rows in the data, i94res and i94cit appear similar in nature. Some rows having matching values for these columns and some don't.\n",
    "\n",
    "Both of these columns have three digits representing a country that is not the United States according to the data dictionary. Unclear what the difference is. I will be using i94res as a feature that represents where someone is originally from. "
   ]
  },
  {
   "cell_type": "markdown",
   "metadata": {
    "editable": true
   },
   "source": [
    "__Explore the i94addr field:__\n",
    "\n",
    "This column is for US states. Assume that this is the state where immigrants are staying."
   ]
  },
  {
   "cell_type": "code",
   "execution_count": 30,
   "metadata": {
    "collapsed": true,
    "editable": true,
    "jupyter": {
     "outputs_hidden": true
    }
   },
   "outputs": [
    {
     "data": {
      "text/plain": [
       "FL    188\n",
       "CA    163\n",
       "NY    161\n",
       "HI     53\n",
       "TX     42\n",
       "NV     34\n",
       "IL     31\n",
       "GU     27\n",
       "MA     26\n",
       "NJ     20\n",
       "WA     19\n",
       "GA     19\n",
       "VA     13\n",
       "NE     12\n",
       "DC     12\n",
       "MD     11\n",
       "PA     10\n",
       "MI      9\n",
       "NC      9\n",
       "LA      8\n",
       "TN      7\n",
       "IN      7\n",
       "CT      6\n",
       "AL      5\n",
       "OH      5\n",
       "AZ      5\n",
       "CO      5\n",
       "MP      3\n",
       "SC      3\n",
       "MN      3\n",
       "VT      2\n",
       "OR      2\n",
       "MO      2\n",
       "UN      2\n",
       "PR      1\n",
       "NH      1\n",
       "ME      1\n",
       "IA      1\n",
       "NM      1\n",
       "MS      1\n",
       "TE      1\n",
       "OK      1\n",
       "SW      1\n",
       "RI      1\n",
       "WI      1\n",
       "UT      1\n",
       "VQ      1\n",
       "ID      1\n",
       "KS      1\n",
       "KY      1\n",
       "AR      1\n",
       "Name: i94addr, dtype: int64"
      ]
     },
     "execution_count": 30,
     "metadata": {},
     "output_type": "execute_result"
    }
   ],
   "source": [
    "data['i94addr'].value_counts()"
   ]
  },
  {
   "cell_type": "markdown",
   "metadata": {
    "editable": true
   },
   "source": [
    "__Explore \"arrdate\" column:__\n",
    "\n",
    "This column is a float, but represents a date. Since this is from a SAS file, want to test the date conversion from float. Can use this in other date columns in this file with similar "
   ]
  },
  {
   "cell_type": "code",
   "execution_count": 32,
   "metadata": {
    "editable": true
   },
   "outputs": [
    {
     "name": "stdout",
     "output_type": "stream",
     "text": [
      "0   2016-04-22\n",
      "1   2016-04-23\n",
      "2   2016-04-07\n",
      "3   2016-04-28\n",
      "4   2016-04-06\n",
      "Name: arrdate, dtype: datetime64[ns]\n"
     ]
    }
   ],
   "source": [
    "# SAS stores values as the number of days from January 1, 1960. Appears to be the correct conversion\n",
    "print((pd.to_timedelta(data['arrdate'], unit = 'd') + pd.datetime(1960,1,1)).head())\n",
    "# change column type\n",
    "data['arrdate'] = pd.to_timedelta(data['arrdate'], unit = 'd') + pd.datetime(1960,1,1)"
   ]
  },
  {
   "cell_type": "markdown",
   "metadata": {
    "editable": true
   },
   "source": [
    "## Demographics data:\n",
    "- See that each city has multiple rows of data. For example, Birmingham, Alabama has five rows. There are repeat values for most of the columns in these rows. The only columns that change between the rows are the \"Race\" and \"Count columns\". May want to transpose data with each \"Race\" value as a column and have each corresponding value \n",
    " - There are 5 categories for this column. Since there are not a lot of categoires, it should be ok to transpose the data so each city has its own row (City & State become the unique identifier)\n",
    "- Some columns are floats when they should be integers"
   ]
  },
  {
   "cell_type": "code",
   "execution_count": 3,
   "metadata": {
    "editable": true
   },
   "outputs": [],
   "source": [
    "# import data\n",
    "demo = pd.read_csv('./us-cities-demographics.csv', sep = ';')"
   ]
  },
  {
   "cell_type": "code",
   "execution_count": 34,
   "metadata": {
    "editable": true
   },
   "outputs": [
    {
     "data": {
      "text/html": [
       "<div>\n",
       "<style scoped>\n",
       "    .dataframe tbody tr th:only-of-type {\n",
       "        vertical-align: middle;\n",
       "    }\n",
       "\n",
       "    .dataframe tbody tr th {\n",
       "        vertical-align: top;\n",
       "    }\n",
       "\n",
       "    .dataframe thead th {\n",
       "        text-align: right;\n",
       "    }\n",
       "</style>\n",
       "<table border=\"1\" class=\"dataframe\">\n",
       "  <thead>\n",
       "    <tr style=\"text-align: right;\">\n",
       "      <th></th>\n",
       "      <th>City</th>\n",
       "      <th>State</th>\n",
       "      <th>Median Age</th>\n",
       "      <th>Male Population</th>\n",
       "      <th>Female Population</th>\n",
       "      <th>Total Population</th>\n",
       "      <th>Number of Veterans</th>\n",
       "      <th>Foreign-born</th>\n",
       "      <th>Average Household Size</th>\n",
       "      <th>State Code</th>\n",
       "      <th>Race</th>\n",
       "      <th>Count</th>\n",
       "    </tr>\n",
       "  </thead>\n",
       "  <tbody>\n",
       "    <tr>\n",
       "      <th>0</th>\n",
       "      <td>Silver Spring</td>\n",
       "      <td>Maryland</td>\n",
       "      <td>33.8</td>\n",
       "      <td>40601.0</td>\n",
       "      <td>41862.0</td>\n",
       "      <td>82463</td>\n",
       "      <td>1562.0</td>\n",
       "      <td>30908.0</td>\n",
       "      <td>2.60</td>\n",
       "      <td>MD</td>\n",
       "      <td>Hispanic or Latino</td>\n",
       "      <td>25924</td>\n",
       "    </tr>\n",
       "    <tr>\n",
       "      <th>1</th>\n",
       "      <td>Quincy</td>\n",
       "      <td>Massachusetts</td>\n",
       "      <td>41.0</td>\n",
       "      <td>44129.0</td>\n",
       "      <td>49500.0</td>\n",
       "      <td>93629</td>\n",
       "      <td>4147.0</td>\n",
       "      <td>32935.0</td>\n",
       "      <td>2.39</td>\n",
       "      <td>MA</td>\n",
       "      <td>White</td>\n",
       "      <td>58723</td>\n",
       "    </tr>\n",
       "    <tr>\n",
       "      <th>2</th>\n",
       "      <td>Hoover</td>\n",
       "      <td>Alabama</td>\n",
       "      <td>38.5</td>\n",
       "      <td>38040.0</td>\n",
       "      <td>46799.0</td>\n",
       "      <td>84839</td>\n",
       "      <td>4819.0</td>\n",
       "      <td>8229.0</td>\n",
       "      <td>2.58</td>\n",
       "      <td>AL</td>\n",
       "      <td>Asian</td>\n",
       "      <td>4759</td>\n",
       "    </tr>\n",
       "    <tr>\n",
       "      <th>3</th>\n",
       "      <td>Rancho Cucamonga</td>\n",
       "      <td>California</td>\n",
       "      <td>34.5</td>\n",
       "      <td>88127.0</td>\n",
       "      <td>87105.0</td>\n",
       "      <td>175232</td>\n",
       "      <td>5821.0</td>\n",
       "      <td>33878.0</td>\n",
       "      <td>3.18</td>\n",
       "      <td>CA</td>\n",
       "      <td>Black or African-American</td>\n",
       "      <td>24437</td>\n",
       "    </tr>\n",
       "    <tr>\n",
       "      <th>4</th>\n",
       "      <td>Newark</td>\n",
       "      <td>New Jersey</td>\n",
       "      <td>34.6</td>\n",
       "      <td>138040.0</td>\n",
       "      <td>143873.0</td>\n",
       "      <td>281913</td>\n",
       "      <td>5829.0</td>\n",
       "      <td>86253.0</td>\n",
       "      <td>2.73</td>\n",
       "      <td>NJ</td>\n",
       "      <td>White</td>\n",
       "      <td>76402</td>\n",
       "    </tr>\n",
       "  </tbody>\n",
       "</table>\n",
       "</div>"
      ],
      "text/plain": [
       "               City          State  Median Age  Male Population  \\\n",
       "0     Silver Spring       Maryland        33.8          40601.0   \n",
       "1            Quincy  Massachusetts        41.0          44129.0   \n",
       "2            Hoover        Alabama        38.5          38040.0   \n",
       "3  Rancho Cucamonga     California        34.5          88127.0   \n",
       "4            Newark     New Jersey        34.6         138040.0   \n",
       "\n",
       "   Female Population  Total Population  Number of Veterans  Foreign-born  \\\n",
       "0            41862.0             82463              1562.0       30908.0   \n",
       "1            49500.0             93629              4147.0       32935.0   \n",
       "2            46799.0             84839              4819.0        8229.0   \n",
       "3            87105.0            175232              5821.0       33878.0   \n",
       "4           143873.0            281913              5829.0       86253.0   \n",
       "\n",
       "   Average Household Size State Code                       Race  Count  \n",
       "0                    2.60         MD         Hispanic or Latino  25924  \n",
       "1                    2.39         MA                      White  58723  \n",
       "2                    2.58         AL                      Asian   4759  \n",
       "3                    3.18         CA  Black or African-American  24437  \n",
       "4                    2.73         NJ                      White  76402  "
      ]
     },
     "execution_count": 34,
     "metadata": {},
     "output_type": "execute_result"
    }
   ],
   "source": [
    "demo.head()"
   ]
  },
  {
   "cell_type": "code",
   "execution_count": 35,
   "metadata": {
    "editable": true
   },
   "outputs": [
    {
     "name": "stdout",
     "output_type": "stream",
     "text": [
      "<class 'pandas.core.frame.DataFrame'>\n",
      "RangeIndex: 2891 entries, 0 to 2890\n",
      "Data columns (total 12 columns):\n",
      "City                      2891 non-null object\n",
      "State                     2891 non-null object\n",
      "Median Age                2891 non-null float64\n",
      "Male Population           2888 non-null float64\n",
      "Female Population         2888 non-null float64\n",
      "Total Population          2891 non-null int64\n",
      "Number of Veterans        2878 non-null float64\n",
      "Foreign-born              2878 non-null float64\n",
      "Average Household Size    2875 non-null float64\n",
      "State Code                2891 non-null object\n",
      "Race                      2891 non-null object\n",
      "Count                     2891 non-null int64\n",
      "dtypes: float64(6), int64(2), object(4)\n",
      "memory usage: 271.1+ KB\n"
     ]
    }
   ],
   "source": [
    "demo.info()"
   ]
  },
  {
   "cell_type": "markdown",
   "metadata": {
    "editable": true
   },
   "source": [
    "Sort by cities to see what exactly makes up the unique identifier for each row."
   ]
  },
  {
   "cell_type": "code",
   "execution_count": 36,
   "metadata": {
    "editable": true
   },
   "outputs": [
    {
     "data": {
      "text/html": [
       "<div>\n",
       "<style scoped>\n",
       "    .dataframe tbody tr th:only-of-type {\n",
       "        vertical-align: middle;\n",
       "    }\n",
       "\n",
       "    .dataframe tbody tr th {\n",
       "        vertical-align: top;\n",
       "    }\n",
       "\n",
       "    .dataframe thead th {\n",
       "        text-align: right;\n",
       "    }\n",
       "</style>\n",
       "<table border=\"1\" class=\"dataframe\">\n",
       "  <thead>\n",
       "    <tr style=\"text-align: right;\">\n",
       "      <th></th>\n",
       "      <th>City</th>\n",
       "      <th>State</th>\n",
       "      <th>Median Age</th>\n",
       "      <th>Male Population</th>\n",
       "      <th>Female Population</th>\n",
       "      <th>Total Population</th>\n",
       "      <th>Number of Veterans</th>\n",
       "      <th>Foreign-born</th>\n",
       "      <th>Average Household Size</th>\n",
       "      <th>State Code</th>\n",
       "      <th>Race</th>\n",
       "      <th>Count</th>\n",
       "    </tr>\n",
       "  </thead>\n",
       "  <tbody>\n",
       "    <tr>\n",
       "      <th>212</th>\n",
       "      <td>Birmingham</td>\n",
       "      <td>Alabama</td>\n",
       "      <td>35.6</td>\n",
       "      <td>102122.0</td>\n",
       "      <td>112789.0</td>\n",
       "      <td>214911</td>\n",
       "      <td>13212.0</td>\n",
       "      <td>8258.0</td>\n",
       "      <td>2.21</td>\n",
       "      <td>AL</td>\n",
       "      <td>Asian</td>\n",
       "      <td>1500</td>\n",
       "    </tr>\n",
       "    <tr>\n",
       "      <th>1063</th>\n",
       "      <td>Birmingham</td>\n",
       "      <td>Alabama</td>\n",
       "      <td>35.6</td>\n",
       "      <td>102122.0</td>\n",
       "      <td>112789.0</td>\n",
       "      <td>214911</td>\n",
       "      <td>13212.0</td>\n",
       "      <td>8258.0</td>\n",
       "      <td>2.21</td>\n",
       "      <td>AL</td>\n",
       "      <td>American Indian and Alaska Native</td>\n",
       "      <td>1319</td>\n",
       "    </tr>\n",
       "    <tr>\n",
       "      <th>2025</th>\n",
       "      <td>Birmingham</td>\n",
       "      <td>Alabama</td>\n",
       "      <td>35.6</td>\n",
       "      <td>102122.0</td>\n",
       "      <td>112789.0</td>\n",
       "      <td>214911</td>\n",
       "      <td>13212.0</td>\n",
       "      <td>8258.0</td>\n",
       "      <td>2.21</td>\n",
       "      <td>AL</td>\n",
       "      <td>White</td>\n",
       "      <td>51728</td>\n",
       "    </tr>\n",
       "    <tr>\n",
       "      <th>2231</th>\n",
       "      <td>Birmingham</td>\n",
       "      <td>Alabama</td>\n",
       "      <td>35.6</td>\n",
       "      <td>102122.0</td>\n",
       "      <td>112789.0</td>\n",
       "      <td>214911</td>\n",
       "      <td>13212.0</td>\n",
       "      <td>8258.0</td>\n",
       "      <td>2.21</td>\n",
       "      <td>AL</td>\n",
       "      <td>Black or African-American</td>\n",
       "      <td>157985</td>\n",
       "    </tr>\n",
       "    <tr>\n",
       "      <th>2627</th>\n",
       "      <td>Birmingham</td>\n",
       "      <td>Alabama</td>\n",
       "      <td>35.6</td>\n",
       "      <td>102122.0</td>\n",
       "      <td>112789.0</td>\n",
       "      <td>214911</td>\n",
       "      <td>13212.0</td>\n",
       "      <td>8258.0</td>\n",
       "      <td>2.21</td>\n",
       "      <td>AL</td>\n",
       "      <td>Hispanic or Latino</td>\n",
       "      <td>8940</td>\n",
       "    </tr>\n",
       "  </tbody>\n",
       "</table>\n",
       "</div>"
      ],
      "text/plain": [
       "            City    State  Median Age  Male Population  Female Population  \\\n",
       "212   Birmingham  Alabama        35.6         102122.0           112789.0   \n",
       "1063  Birmingham  Alabama        35.6         102122.0           112789.0   \n",
       "2025  Birmingham  Alabama        35.6         102122.0           112789.0   \n",
       "2231  Birmingham  Alabama        35.6         102122.0           112789.0   \n",
       "2627  Birmingham  Alabama        35.6         102122.0           112789.0   \n",
       "\n",
       "      Total Population  Number of Veterans  Foreign-born  \\\n",
       "212             214911             13212.0        8258.0   \n",
       "1063            214911             13212.0        8258.0   \n",
       "2025            214911             13212.0        8258.0   \n",
       "2231            214911             13212.0        8258.0   \n",
       "2627            214911             13212.0        8258.0   \n",
       "\n",
       "      Average Household Size State Code                               Race  \\\n",
       "212                     2.21         AL                              Asian   \n",
       "1063                    2.21         AL  American Indian and Alaska Native   \n",
       "2025                    2.21         AL                              White   \n",
       "2231                    2.21         AL          Black or African-American   \n",
       "2627                    2.21         AL                 Hispanic or Latino   \n",
       "\n",
       "       Count  \n",
       "212     1500  \n",
       "1063    1319  \n",
       "2025   51728  \n",
       "2231  157985  \n",
       "2627    8940  "
      ]
     },
     "execution_count": 36,
     "metadata": {},
     "output_type": "execute_result"
    }
   ],
   "source": [
    "demo =  demo.sort_values(by=['State', 'City'])\n",
    "demo.head()"
   ]
  },
  {
   "cell_type": "code",
   "execution_count": 37,
   "metadata": {
    "editable": true
   },
   "outputs": [
    {
     "data": {
      "text/html": [
       "<div>\n",
       "<style scoped>\n",
       "    .dataframe tbody tr th:only-of-type {\n",
       "        vertical-align: middle;\n",
       "    }\n",
       "\n",
       "    .dataframe tbody tr th {\n",
       "        vertical-align: top;\n",
       "    }\n",
       "\n",
       "    .dataframe thead th {\n",
       "        text-align: right;\n",
       "    }\n",
       "</style>\n",
       "<table border=\"1\" class=\"dataframe\">\n",
       "  <thead>\n",
       "    <tr style=\"text-align: right;\">\n",
       "      <th></th>\n",
       "      <th>City</th>\n",
       "      <th>State</th>\n",
       "      <th>Median Age</th>\n",
       "      <th>Male Population</th>\n",
       "      <th>Female Population</th>\n",
       "      <th>Total Population</th>\n",
       "      <th>Number of Veterans</th>\n",
       "      <th>Foreign-born</th>\n",
       "      <th>Average Household Size</th>\n",
       "      <th>State Code</th>\n",
       "      <th>Race</th>\n",
       "      <th>Count</th>\n",
       "    </tr>\n",
       "  </thead>\n",
       "  <tbody>\n",
       "    <tr>\n",
       "      <th>212</th>\n",
       "      <td>Birmingham</td>\n",
       "      <td>Alabama</td>\n",
       "      <td>35.6</td>\n",
       "      <td>102122.0</td>\n",
       "      <td>112789.0</td>\n",
       "      <td>214911</td>\n",
       "      <td>13212.0</td>\n",
       "      <td>8258.0</td>\n",
       "      <td>2.21</td>\n",
       "      <td>AL</td>\n",
       "      <td>Asian</td>\n",
       "      <td>1500</td>\n",
       "    </tr>\n",
       "    <tr>\n",
       "      <th>1063</th>\n",
       "      <td>Birmingham</td>\n",
       "      <td>Alabama</td>\n",
       "      <td>35.6</td>\n",
       "      <td>102122.0</td>\n",
       "      <td>112789.0</td>\n",
       "      <td>214911</td>\n",
       "      <td>13212.0</td>\n",
       "      <td>8258.0</td>\n",
       "      <td>2.21</td>\n",
       "      <td>AL</td>\n",
       "      <td>American Indian and Alaska Native</td>\n",
       "      <td>1319</td>\n",
       "    </tr>\n",
       "    <tr>\n",
       "      <th>2025</th>\n",
       "      <td>Birmingham</td>\n",
       "      <td>Alabama</td>\n",
       "      <td>35.6</td>\n",
       "      <td>102122.0</td>\n",
       "      <td>112789.0</td>\n",
       "      <td>214911</td>\n",
       "      <td>13212.0</td>\n",
       "      <td>8258.0</td>\n",
       "      <td>2.21</td>\n",
       "      <td>AL</td>\n",
       "      <td>White</td>\n",
       "      <td>51728</td>\n",
       "    </tr>\n",
       "    <tr>\n",
       "      <th>2231</th>\n",
       "      <td>Birmingham</td>\n",
       "      <td>Alabama</td>\n",
       "      <td>35.6</td>\n",
       "      <td>102122.0</td>\n",
       "      <td>112789.0</td>\n",
       "      <td>214911</td>\n",
       "      <td>13212.0</td>\n",
       "      <td>8258.0</td>\n",
       "      <td>2.21</td>\n",
       "      <td>AL</td>\n",
       "      <td>Black or African-American</td>\n",
       "      <td>157985</td>\n",
       "    </tr>\n",
       "    <tr>\n",
       "      <th>2627</th>\n",
       "      <td>Birmingham</td>\n",
       "      <td>Alabama</td>\n",
       "      <td>35.6</td>\n",
       "      <td>102122.0</td>\n",
       "      <td>112789.0</td>\n",
       "      <td>214911</td>\n",
       "      <td>13212.0</td>\n",
       "      <td>8258.0</td>\n",
       "      <td>2.21</td>\n",
       "      <td>AL</td>\n",
       "      <td>Hispanic or Latino</td>\n",
       "      <td>8940</td>\n",
       "    </tr>\n",
       "    <tr>\n",
       "      <th>479</th>\n",
       "      <td>Dothan</td>\n",
       "      <td>Alabama</td>\n",
       "      <td>38.9</td>\n",
       "      <td>32172.0</td>\n",
       "      <td>35364.0</td>\n",
       "      <td>67536</td>\n",
       "      <td>6334.0</td>\n",
       "      <td>1699.0</td>\n",
       "      <td>2.59</td>\n",
       "      <td>AL</td>\n",
       "      <td>Asian</td>\n",
       "      <td>1175</td>\n",
       "    </tr>\n",
       "    <tr>\n",
       "      <th>500</th>\n",
       "      <td>Dothan</td>\n",
       "      <td>Alabama</td>\n",
       "      <td>38.9</td>\n",
       "      <td>32172.0</td>\n",
       "      <td>35364.0</td>\n",
       "      <td>67536</td>\n",
       "      <td>6334.0</td>\n",
       "      <td>1699.0</td>\n",
       "      <td>2.59</td>\n",
       "      <td>AL</td>\n",
       "      <td>Hispanic or Latino</td>\n",
       "      <td>1704</td>\n",
       "    </tr>\n",
       "    <tr>\n",
       "      <th>1064</th>\n",
       "      <td>Dothan</td>\n",
       "      <td>Alabama</td>\n",
       "      <td>38.9</td>\n",
       "      <td>32172.0</td>\n",
       "      <td>35364.0</td>\n",
       "      <td>67536</td>\n",
       "      <td>6334.0</td>\n",
       "      <td>1699.0</td>\n",
       "      <td>2.59</td>\n",
       "      <td>AL</td>\n",
       "      <td>Black or African-American</td>\n",
       "      <td>23243</td>\n",
       "    </tr>\n",
       "    <tr>\n",
       "      <th>1580</th>\n",
       "      <td>Dothan</td>\n",
       "      <td>Alabama</td>\n",
       "      <td>38.9</td>\n",
       "      <td>32172.0</td>\n",
       "      <td>35364.0</td>\n",
       "      <td>67536</td>\n",
       "      <td>6334.0</td>\n",
       "      <td>1699.0</td>\n",
       "      <td>2.59</td>\n",
       "      <td>AL</td>\n",
       "      <td>White</td>\n",
       "      <td>43516</td>\n",
       "    </tr>\n",
       "    <tr>\n",
       "      <th>1925</th>\n",
       "      <td>Dothan</td>\n",
       "      <td>Alabama</td>\n",
       "      <td>38.9</td>\n",
       "      <td>32172.0</td>\n",
       "      <td>35364.0</td>\n",
       "      <td>67536</td>\n",
       "      <td>6334.0</td>\n",
       "      <td>1699.0</td>\n",
       "      <td>2.59</td>\n",
       "      <td>AL</td>\n",
       "      <td>American Indian and Alaska Native</td>\n",
       "      <td>656</td>\n",
       "    </tr>\n",
       "  </tbody>\n",
       "</table>\n",
       "</div>"
      ],
      "text/plain": [
       "            City    State  Median Age  Male Population  Female Population  \\\n",
       "212   Birmingham  Alabama        35.6         102122.0           112789.0   \n",
       "1063  Birmingham  Alabama        35.6         102122.0           112789.0   \n",
       "2025  Birmingham  Alabama        35.6         102122.0           112789.0   \n",
       "2231  Birmingham  Alabama        35.6         102122.0           112789.0   \n",
       "2627  Birmingham  Alabama        35.6         102122.0           112789.0   \n",
       "479       Dothan  Alabama        38.9          32172.0            35364.0   \n",
       "500       Dothan  Alabama        38.9          32172.0            35364.0   \n",
       "1064      Dothan  Alabama        38.9          32172.0            35364.0   \n",
       "1580      Dothan  Alabama        38.9          32172.0            35364.0   \n",
       "1925      Dothan  Alabama        38.9          32172.0            35364.0   \n",
       "\n",
       "      Total Population  Number of Veterans  Foreign-born  \\\n",
       "212             214911             13212.0        8258.0   \n",
       "1063            214911             13212.0        8258.0   \n",
       "2025            214911             13212.0        8258.0   \n",
       "2231            214911             13212.0        8258.0   \n",
       "2627            214911             13212.0        8258.0   \n",
       "479              67536              6334.0        1699.0   \n",
       "500              67536              6334.0        1699.0   \n",
       "1064             67536              6334.0        1699.0   \n",
       "1580             67536              6334.0        1699.0   \n",
       "1925             67536              6334.0        1699.0   \n",
       "\n",
       "      Average Household Size State Code                               Race  \\\n",
       "212                     2.21         AL                              Asian   \n",
       "1063                    2.21         AL  American Indian and Alaska Native   \n",
       "2025                    2.21         AL                              White   \n",
       "2231                    2.21         AL          Black or African-American   \n",
       "2627                    2.21         AL                 Hispanic or Latino   \n",
       "479                     2.59         AL                              Asian   \n",
       "500                     2.59         AL                 Hispanic or Latino   \n",
       "1064                    2.59         AL          Black or African-American   \n",
       "1580                    2.59         AL                              White   \n",
       "1925                    2.59         AL  American Indian and Alaska Native   \n",
       "\n",
       "       Count  \n",
       "212     1500  \n",
       "1063    1319  \n",
       "2025   51728  \n",
       "2231  157985  \n",
       "2627    8940  \n",
       "479     1175  \n",
       "500     1704  \n",
       "1064   23243  \n",
       "1580   43516  \n",
       "1925     656  "
      ]
     },
     "execution_count": 37,
     "metadata": {},
     "output_type": "execute_result"
    }
   ],
   "source": [
    "demo.head(10)"
   ]
  },
  {
   "cell_type": "code",
   "execution_count": 8,
   "metadata": {
    "editable": true
   },
   "outputs": [
    {
     "data": {
      "text/plain": [
       "Hispanic or Latino                   596\n",
       "White                                589\n",
       "Black or African-American            584\n",
       "Asian                                583\n",
       "American Indian and Alaska Native    539\n",
       "Name: Race, dtype: int64"
      ]
     },
     "execution_count": 8,
     "metadata": {},
     "output_type": "execute_result"
    }
   ],
   "source": [
    "demo['Race'].value_counts()"
   ]
  },
  {
   "cell_type": "markdown",
   "metadata": {
    "editable": true
   },
   "source": [
    "One thing noticeable is that when summing up the count column, the result is greater than the total population value.For Birmingham Alabama:\n",
    "- Sum of Count column = 221,472\n",
    "- Total Population - 214,911"
   ]
  },
  {
   "cell_type": "markdown",
   "metadata": {
    "editable": true
   },
   "source": [
    "## Airport data:\n",
    "- There are many nulls in the Continent column. All are from \"NA\" values being processed as nulls. \n",
    "- There are also nulls in the country column\n",
    "- iso_region does not have any nulls. After performing EDA, determined that it is possible to use iso_region to calculate values in the continent and country columns.\n",
    " - Many rows will have nulls as a continent value. This is because the values are supposed to be \"NA\", but are processed in as nulls. We need to process these with escape characters to prevent improper reading of this field\n",
    "- There is one error in the data for a US airport with an incorrect continent"
   ]
  },
  {
   "cell_type": "code",
   "execution_count": 6,
   "metadata": {
    "editable": true
   },
   "outputs": [],
   "source": [
    "# Read in data\n",
    "airport = pd.read_csv('./airport-codes_csv.csv')"
   ]
  },
  {
   "cell_type": "code",
   "execution_count": 40,
   "metadata": {
    "editable": true
   },
   "outputs": [
    {
     "data": {
      "text/html": [
       "<div>\n",
       "<style scoped>\n",
       "    .dataframe tbody tr th:only-of-type {\n",
       "        vertical-align: middle;\n",
       "    }\n",
       "\n",
       "    .dataframe tbody tr th {\n",
       "        vertical-align: top;\n",
       "    }\n",
       "\n",
       "    .dataframe thead th {\n",
       "        text-align: right;\n",
       "    }\n",
       "</style>\n",
       "<table border=\"1\" class=\"dataframe\">\n",
       "  <thead>\n",
       "    <tr style=\"text-align: right;\">\n",
       "      <th></th>\n",
       "      <th>ident</th>\n",
       "      <th>type</th>\n",
       "      <th>name</th>\n",
       "      <th>elevation_ft</th>\n",
       "      <th>continent</th>\n",
       "      <th>iso_country</th>\n",
       "      <th>iso_region</th>\n",
       "      <th>municipality</th>\n",
       "      <th>gps_code</th>\n",
       "      <th>iata_code</th>\n",
       "      <th>local_code</th>\n",
       "      <th>coordinates</th>\n",
       "    </tr>\n",
       "  </thead>\n",
       "  <tbody>\n",
       "    <tr>\n",
       "      <th>0</th>\n",
       "      <td>00A</td>\n",
       "      <td>heliport</td>\n",
       "      <td>Total Rf Heliport</td>\n",
       "      <td>11.0</td>\n",
       "      <td>NaN</td>\n",
       "      <td>US</td>\n",
       "      <td>US-PA</td>\n",
       "      <td>Bensalem</td>\n",
       "      <td>00A</td>\n",
       "      <td>NaN</td>\n",
       "      <td>00A</td>\n",
       "      <td>-74.93360137939453, 40.07080078125</td>\n",
       "    </tr>\n",
       "    <tr>\n",
       "      <th>1</th>\n",
       "      <td>00AA</td>\n",
       "      <td>small_airport</td>\n",
       "      <td>Aero B Ranch Airport</td>\n",
       "      <td>3435.0</td>\n",
       "      <td>NaN</td>\n",
       "      <td>US</td>\n",
       "      <td>US-KS</td>\n",
       "      <td>Leoti</td>\n",
       "      <td>00AA</td>\n",
       "      <td>NaN</td>\n",
       "      <td>00AA</td>\n",
       "      <td>-101.473911, 38.704022</td>\n",
       "    </tr>\n",
       "    <tr>\n",
       "      <th>2</th>\n",
       "      <td>00AK</td>\n",
       "      <td>small_airport</td>\n",
       "      <td>Lowell Field</td>\n",
       "      <td>450.0</td>\n",
       "      <td>NaN</td>\n",
       "      <td>US</td>\n",
       "      <td>US-AK</td>\n",
       "      <td>Anchor Point</td>\n",
       "      <td>00AK</td>\n",
       "      <td>NaN</td>\n",
       "      <td>00AK</td>\n",
       "      <td>-151.695999146, 59.94919968</td>\n",
       "    </tr>\n",
       "    <tr>\n",
       "      <th>3</th>\n",
       "      <td>00AL</td>\n",
       "      <td>small_airport</td>\n",
       "      <td>Epps Airpark</td>\n",
       "      <td>820.0</td>\n",
       "      <td>NaN</td>\n",
       "      <td>US</td>\n",
       "      <td>US-AL</td>\n",
       "      <td>Harvest</td>\n",
       "      <td>00AL</td>\n",
       "      <td>NaN</td>\n",
       "      <td>00AL</td>\n",
       "      <td>-86.77030181884766, 34.86479949951172</td>\n",
       "    </tr>\n",
       "    <tr>\n",
       "      <th>4</th>\n",
       "      <td>00AR</td>\n",
       "      <td>closed</td>\n",
       "      <td>Newport Hospital &amp; Clinic Heliport</td>\n",
       "      <td>237.0</td>\n",
       "      <td>NaN</td>\n",
       "      <td>US</td>\n",
       "      <td>US-AR</td>\n",
       "      <td>Newport</td>\n",
       "      <td>NaN</td>\n",
       "      <td>NaN</td>\n",
       "      <td>NaN</td>\n",
       "      <td>-91.254898, 35.6087</td>\n",
       "    </tr>\n",
       "  </tbody>\n",
       "</table>\n",
       "</div>"
      ],
      "text/plain": [
       "  ident           type                                name  elevation_ft  \\\n",
       "0   00A       heliport                   Total Rf Heliport          11.0   \n",
       "1  00AA  small_airport                Aero B Ranch Airport        3435.0   \n",
       "2  00AK  small_airport                        Lowell Field         450.0   \n",
       "3  00AL  small_airport                        Epps Airpark         820.0   \n",
       "4  00AR         closed  Newport Hospital & Clinic Heliport         237.0   \n",
       "\n",
       "  continent iso_country iso_region  municipality gps_code iata_code  \\\n",
       "0       NaN          US      US-PA      Bensalem      00A       NaN   \n",
       "1       NaN          US      US-KS         Leoti     00AA       NaN   \n",
       "2       NaN          US      US-AK  Anchor Point     00AK       NaN   \n",
       "3       NaN          US      US-AL       Harvest     00AL       NaN   \n",
       "4       NaN          US      US-AR       Newport      NaN       NaN   \n",
       "\n",
       "  local_code                            coordinates  \n",
       "0        00A     -74.93360137939453, 40.07080078125  \n",
       "1       00AA                 -101.473911, 38.704022  \n",
       "2       00AK            -151.695999146, 59.94919968  \n",
       "3       00AL  -86.77030181884766, 34.86479949951172  \n",
       "4        NaN                    -91.254898, 35.6087  "
      ]
     },
     "execution_count": 40,
     "metadata": {},
     "output_type": "execute_result"
    }
   ],
   "source": [
    "# See first five rows\n",
    "airport.head()"
   ]
  },
  {
   "cell_type": "code",
   "execution_count": 41,
   "metadata": {
    "editable": true
   },
   "outputs": [
    {
     "name": "stdout",
     "output_type": "stream",
     "text": [
      "<class 'pandas.core.frame.DataFrame'>\n",
      "RangeIndex: 55075 entries, 0 to 55074\n",
      "Data columns (total 12 columns):\n",
      "ident           55075 non-null object\n",
      "type            55075 non-null object\n",
      "name            55075 non-null object\n",
      "elevation_ft    48069 non-null float64\n",
      "continent       27356 non-null object\n",
      "iso_country     54828 non-null object\n",
      "iso_region      55075 non-null object\n",
      "municipality    49399 non-null object\n",
      "gps_code        41030 non-null object\n",
      "iata_code       9189 non-null object\n",
      "local_code      28686 non-null object\n",
      "coordinates     55075 non-null object\n",
      "dtypes: float64(1), object(11)\n",
      "memory usage: 5.0+ MB\n"
     ]
    }
   ],
   "source": [
    "# See high level overview of data\n",
    "airport.info()"
   ]
  },
  {
   "cell_type": "code",
   "execution_count": 14,
   "metadata": {
    "editable": true
   },
   "outputs": [
    {
     "data": {
      "text/plain": [
       "NA-HA    91\n",
       "NA-OH    34\n",
       "NA-KH    27\n",
       "NA-KA    26\n",
       "NA-ER    18\n",
       "NA-OD    15\n",
       "NA-KU    14\n",
       "NA-CA     5\n",
       "NA-OT     5\n",
       "NA-KE     4\n",
       "NA-OS     3\n",
       "NA-OW     2\n",
       "NA-ON     2\n",
       "NA-KW     1\n",
       "Name: iso_region, dtype: int64"
      ]
     },
     "execution_count": 14,
     "metadata": {},
     "output_type": "execute_result"
    }
   ],
   "source": [
    "# ISO country nulls all have NA as their country code.\n",
    "airport[airport['iso_country'].isnull()]['iso_region'].value_counts()"
   ]
  },
  {
   "cell_type": "markdown",
   "metadata": {
    "editable": true
   },
   "source": [
    "Look at the types column and how many categories there are."
   ]
  },
  {
   "cell_type": "code",
   "execution_count": 42,
   "metadata": {
    "editable": true
   },
   "outputs": [
    {
     "data": {
      "text/plain": [
       "small_airport     33965\n",
       "heliport          11287\n",
       "medium_airport     4550\n",
       "closed             3606\n",
       "seaplane_base      1016\n",
       "large_airport       627\n",
       "balloonport          24\n",
       "Name: type, dtype: int64"
      ]
     },
     "execution_count": 42,
     "metadata": {},
     "output_type": "execute_result"
    }
   ],
   "source": [
    "airport['type'].value_counts()"
   ]
  },
  {
   "cell_type": "markdown",
   "metadata": {
    "editable": true
   },
   "source": [
    "Look at continent since there are more null values in this column then others like iso_country and iso_region"
   ]
  },
  {
   "cell_type": "code",
   "execution_count": 43,
   "metadata": {
    "editable": true
   },
   "outputs": [
    {
     "data": {
      "text/plain": [
       "EU    7840\n",
       "SA    7709\n",
       "AS    5350\n",
       "AF    3362\n",
       "OC    3067\n",
       "AN      28\n",
       "Name: continent, dtype: int64"
      ]
     },
     "execution_count": 43,
     "metadata": {},
     "output_type": "execute_result"
    }
   ],
   "source": [
    "airport['continent'].value_counts()"
   ]
  },
  {
   "cell_type": "markdown",
   "metadata": {
    "editable": true
   },
   "source": [
    "There are 6 groups in the continents column. For the rows with missing values, what are the iso_country and iso_region column values?"
   ]
  },
  {
   "cell_type": "code",
   "execution_count": 44,
   "metadata": {
    "editable": true
   },
   "outputs": [
    {
     "data": {
      "text/plain": [
       "27719"
      ]
     },
     "execution_count": 44,
     "metadata": {},
     "output_type": "execute_result"
    }
   ],
   "source": [
    "#first, see how many are nulls\n",
    "airport['continent'].isnull().sum()"
   ]
  },
  {
   "cell_type": "code",
   "execution_count": 45,
   "metadata": {
    "editable": true
   },
   "outputs": [
    {
     "data": {
      "text/html": [
       "<div>\n",
       "<style scoped>\n",
       "    .dataframe tbody tr th:only-of-type {\n",
       "        vertical-align: middle;\n",
       "    }\n",
       "\n",
       "    .dataframe tbody tr th {\n",
       "        vertical-align: top;\n",
       "    }\n",
       "\n",
       "    .dataframe thead th {\n",
       "        text-align: right;\n",
       "    }\n",
       "</style>\n",
       "<table border=\"1\" class=\"dataframe\">\n",
       "  <thead>\n",
       "    <tr style=\"text-align: right;\">\n",
       "      <th></th>\n",
       "      <th>iso_country</th>\n",
       "      <th>iso_region</th>\n",
       "    </tr>\n",
       "  </thead>\n",
       "  <tbody>\n",
       "    <tr>\n",
       "      <th>0</th>\n",
       "      <td>US</td>\n",
       "      <td>US-PA</td>\n",
       "    </tr>\n",
       "    <tr>\n",
       "      <th>1</th>\n",
       "      <td>US</td>\n",
       "      <td>US-KS</td>\n",
       "    </tr>\n",
       "    <tr>\n",
       "      <th>2</th>\n",
       "      <td>US</td>\n",
       "      <td>US-AK</td>\n",
       "    </tr>\n",
       "    <tr>\n",
       "      <th>3</th>\n",
       "      <td>US</td>\n",
       "      <td>US-AL</td>\n",
       "    </tr>\n",
       "    <tr>\n",
       "      <th>4</th>\n",
       "      <td>US</td>\n",
       "      <td>US-AR</td>\n",
       "    </tr>\n",
       "  </tbody>\n",
       "</table>\n",
       "</div>"
      ],
      "text/plain": [
       "  iso_country iso_region\n",
       "0          US      US-PA\n",
       "1          US      US-KS\n",
       "2          US      US-AK\n",
       "3          US      US-AL\n",
       "4          US      US-AR"
      ]
     },
     "execution_count": 45,
     "metadata": {},
     "output_type": "execute_result"
    }
   ],
   "source": [
    "airport[airport['continent'].isnull()][[\"iso_country\",\"iso_region\"]].head()"
   ]
  },
  {
   "cell_type": "code",
   "execution_count": 46,
   "metadata": {
    "editable": true
   },
   "outputs": [
    {
     "data": {
      "text/plain": [
       "US    22756\n",
       "CA     2784\n",
       "MX     1181\n",
       "HN      158\n",
       "CU      134\n",
       "Name: iso_country, dtype: int64"
      ]
     },
     "execution_count": 46,
     "metadata": {},
     "output_type": "execute_result"
    }
   ],
   "source": [
    "airport[airport['continent'].isnull()][\"iso_country\"].value_counts().head()"
   ]
  },
  {
   "cell_type": "code",
   "execution_count": 47,
   "metadata": {
    "editable": true
   },
   "outputs": [
    {
     "data": {
      "text/plain": [
       "US-TX    2277\n",
       "US-CA    1088\n",
       "US-FL     967\n",
       "US-PA     918\n",
       "US-IL     902\n",
       "US-AK     829\n",
       "US-OH     798\n",
       "US-IN     697\n",
       "CA-ON     695\n",
       "US-NY     668\n",
       "Name: iso_region, dtype: int64"
      ]
     },
     "execution_count": 47,
     "metadata": {},
     "output_type": "execute_result"
    }
   ],
   "source": [
    "airport[airport['continent'].isnull()][\"iso_region\"].value_counts().head(10)"
   ]
  },
  {
   "cell_type": "markdown",
   "metadata": {
    "editable": true
   },
   "source": [
    "Most nulls in the continent column have a iso_country value of US, CA, and MX. The iso_region column also appears to confirm this.\n",
    "\n",
    "\n",
    "Since these have a large count, will investigate all rows with US, CA, and MX as values for iso_country to see if any rows have values in the continent column:"
   ]
  },
  {
   "cell_type": "code",
   "execution_count": 48,
   "metadata": {
    "editable": true
   },
   "outputs": [
    {
     "name": "stdout",
     "output_type": "stream",
     "text": [
      "Where continents field is null for US: 22,756\n",
      "Where continents field is not null for US: 1\n",
      "Proportion of nulls: 100.0%\n",
      "\n",
      "Where continents field is null for CA: 2,784\n",
      "Where continents field is not null for CA: 0\n",
      "Proportion of nulls: 100.0%\n",
      "\n",
      "Where continents field is null for MX: 1,181\n",
      "Where continents field is not null for MX: 0\n",
      "Proportion of nulls: 100.0%\n",
      "\n"
     ]
    }
   ],
   "source": [
    "name_list = ['US', 'CA', 'MX']\n",
    "for name in name_list:\n",
    "    print('Where continents field is null for '+ name + ': ' + str(\"{:,}\".format(airport[airport['iso_country'] == name]['continent'].isnull().sum())))\n",
    "    print('Where continents field is not null for '+ name + ': ' + str(airport[airport['iso_country'] == name]['continent'].notnull().sum()))\n",
    "    print('Proportion of nulls: '+ str(\"{:.1%}\".format(airport[airport['iso_country'] == name]['continent'].isnull().sum() / len(airport[airport['iso_country'] == name]))))\n",
    "    print()"
   ]
  },
  {
   "cell_type": "markdown",
   "metadata": {
    "editable": true
   },
   "source": [
    "Only one row has a continent value for all of the rows in question. The row has US as its country value and AS as its continent value"
   ]
  },
  {
   "cell_type": "code",
   "execution_count": 49,
   "metadata": {
    "editable": true
   },
   "outputs": [
    {
     "name": "stdout",
     "output_type": "stream",
     "text": [
      "AS    1\n",
      "Name: continent, dtype: int64\n"
     ]
    },
    {
     "data": {
      "text/html": [
       "<div>\n",
       "<style scoped>\n",
       "    .dataframe tbody tr th:only-of-type {\n",
       "        vertical-align: middle;\n",
       "    }\n",
       "\n",
       "    .dataframe tbody tr th {\n",
       "        vertical-align: top;\n",
       "    }\n",
       "\n",
       "    .dataframe thead th {\n",
       "        text-align: right;\n",
       "    }\n",
       "</style>\n",
       "<table border=\"1\" class=\"dataframe\">\n",
       "  <thead>\n",
       "    <tr style=\"text-align: right;\">\n",
       "      <th></th>\n",
       "      <th>ident</th>\n",
       "      <th>type</th>\n",
       "      <th>name</th>\n",
       "      <th>elevation_ft</th>\n",
       "      <th>continent</th>\n",
       "      <th>iso_country</th>\n",
       "      <th>iso_region</th>\n",
       "      <th>municipality</th>\n",
       "      <th>gps_code</th>\n",
       "      <th>iata_code</th>\n",
       "      <th>local_code</th>\n",
       "      <th>coordinates</th>\n",
       "    </tr>\n",
       "  </thead>\n",
       "  <tbody>\n",
       "    <tr>\n",
       "      <th>37387</th>\n",
       "      <td>OI05</td>\n",
       "      <td>heliport</td>\n",
       "      <td>Dana Heliport</td>\n",
       "      <td>625.0</td>\n",
       "      <td>AS</td>\n",
       "      <td>US</td>\n",
       "      <td>US-OH</td>\n",
       "      <td>Toledo</td>\n",
       "      <td>OI05</td>\n",
       "      <td>NaN</td>\n",
       "      <td>OI05</td>\n",
       "      <td>-83.6465988159, 41.65589904789999</td>\n",
       "    </tr>\n",
       "  </tbody>\n",
       "</table>\n",
       "</div>"
      ],
      "text/plain": [
       "      ident      type           name  elevation_ft continent iso_country  \\\n",
       "37387  OI05  heliport  Dana Heliport         625.0        AS          US   \n",
       "\n",
       "      iso_region municipality gps_code iata_code local_code  \\\n",
       "37387      US-OH       Toledo     OI05       NaN       OI05   \n",
       "\n",
       "                             coordinates  \n",
       "37387  -83.6465988159, 41.65589904789999  "
      ]
     },
     "execution_count": 49,
     "metadata": {},
     "output_type": "execute_result"
    }
   ],
   "source": [
    "print(airport[(airport['iso_country'] == 'US')]['continent'].value_counts())\n",
    "airport[(airport['iso_country'] == 'US')&(airport['continent'] == 'AS')]"
   ]
  },
  {
   "cell_type": "markdown",
   "metadata": {
    "editable": true
   },
   "source": [
    "Value of \"AS\" represents Asia. This row is for a heliport in Toledo, Ohio, so it has an incorrect continent value. The continent value should be updated to \"NA\" for North America"
   ]
  },
  {
   "cell_type": "code",
   "execution_count": 50,
   "metadata": {
    "editable": true
   },
   "outputs": [
    {
     "data": {
      "text/html": [
       "<div>\n",
       "<style scoped>\n",
       "    .dataframe tbody tr th:only-of-type {\n",
       "        vertical-align: middle;\n",
       "    }\n",
       "\n",
       "    .dataframe tbody tr th {\n",
       "        vertical-align: top;\n",
       "    }\n",
       "\n",
       "    .dataframe thead th {\n",
       "        text-align: right;\n",
       "    }\n",
       "</style>\n",
       "<table border=\"1\" class=\"dataframe\">\n",
       "  <thead>\n",
       "    <tr style=\"text-align: right;\">\n",
       "      <th></th>\n",
       "      <th>ident</th>\n",
       "      <th>type</th>\n",
       "      <th>name</th>\n",
       "      <th>elevation_ft</th>\n",
       "      <th>continent</th>\n",
       "      <th>iso_country</th>\n",
       "      <th>iso_region</th>\n",
       "      <th>municipality</th>\n",
       "      <th>gps_code</th>\n",
       "      <th>iata_code</th>\n",
       "      <th>local_code</th>\n",
       "      <th>coordinates</th>\n",
       "    </tr>\n",
       "  </thead>\n",
       "  <tbody>\n",
       "    <tr>\n",
       "      <th>37387</th>\n",
       "      <td>OI05</td>\n",
       "      <td>heliport</td>\n",
       "      <td>Dana Heliport</td>\n",
       "      <td>625.0</td>\n",
       "      <td>NA</td>\n",
       "      <td>US</td>\n",
       "      <td>US-OH</td>\n",
       "      <td>Toledo</td>\n",
       "      <td>OI05</td>\n",
       "      <td>NaN</td>\n",
       "      <td>OI05</td>\n",
       "      <td>-83.6465988159, 41.65589904789999</td>\n",
       "    </tr>\n",
       "  </tbody>\n",
       "</table>\n",
       "</div>"
      ],
      "text/plain": [
       "      ident      type           name  elevation_ft continent iso_country  \\\n",
       "37387  OI05  heliport  Dana Heliport         625.0        NA          US   \n",
       "\n",
       "      iso_region municipality gps_code iata_code local_code  \\\n",
       "37387      US-OH       Toledo     OI05       NaN       OI05   \n",
       "\n",
       "                             coordinates  \n",
       "37387  -83.6465988159, 41.65589904789999  "
      ]
     },
     "execution_count": 50,
     "metadata": {},
     "output_type": "execute_result"
    }
   ],
   "source": [
    "# Get row by filtering for continent == AS and country == US\n",
    "airport.loc[((airport['continent'] == 'AS')&(airport['iso_country'] == 'US')),'continent'] = \"NA\"\n",
    "\n",
    "#verify it is now value of \"NA\"\n",
    "airport[(airport['ident'] == 'OI05')]"
   ]
  },
  {
   "cell_type": "markdown",
   "metadata": {
    "editable": true
   },
   "source": [
    "For these three country values, the continent should be \"NA\" for North America. However, when reading in this file, the columns with NA were processed as a null value. When reading in the airport file, make sure these values are appropriately processed with escape characters.\n",
    "\n",
    "Need to process all rows with continent values of US, CA, and MX with escape character:"
   ]
  },
  {
   "cell_type": "code",
   "execution_count": 51,
   "metadata": {
    "editable": true
   },
   "outputs": [],
   "source": [
    "airport.loc[((airport['iso_country'] == 'US') | (airport['iso_country'] == 'MX') | (airport['iso_country'] == 'CA')),'continent'] = \"NA\""
   ]
  },
  {
   "cell_type": "markdown",
   "metadata": {
    "editable": true
   },
   "source": [
    "Verify values are no longer null:"
   ]
  },
  {
   "cell_type": "code",
   "execution_count": 52,
   "metadata": {
    "editable": true
   },
   "outputs": [
    {
     "name": "stdout",
     "output_type": "stream",
     "text": [
      "0\n",
      "0\n",
      "0\n"
     ]
    }
   ],
   "source": [
    "print(airport[(airport['iso_country'] == 'US')]['continent'].isnull().sum())\n",
    "print(airport[(airport['iso_country'] == 'MX')]['continent'].isnull().sum())\n",
    "print(airport[(airport['iso_country'] == 'CA')]['continent'].isnull().sum())"
   ]
  },
  {
   "cell_type": "markdown",
   "metadata": {
    "editable": true
   },
   "source": [
    "See remaining values"
   ]
  },
  {
   "cell_type": "code",
   "execution_count": 53,
   "metadata": {
    "editable": true
   },
   "outputs": [
    {
     "data": {
      "text/plain": [
       "HN    158\n",
       "CU    134\n",
       "CR    133\n",
       "GL     84\n",
       "PA     72\n",
       "BS     66\n",
       "PR     64\n",
       "GT     53\n",
       "DO     39\n",
       "NI     32\n",
       "BZ     27\n",
       "SV     27\n",
       "JM     24\n",
       "TC     10\n",
       "VI      9\n",
       "HT      8\n",
       "GP      6\n",
       "VC      6\n",
       "BB      6\n",
       "GD      3\n",
       "KY      3\n",
       "BM      3\n",
       "TT      3\n",
       "BQ      3\n",
       "AG      3\n",
       "VG      3\n",
       "KN      2\n",
       "MF      2\n",
       "LC      2\n",
       "MS      2\n",
       "DM      2\n",
       "PM      2\n",
       "SX      1\n",
       "CW      1\n",
       "MQ      1\n",
       "GB      1\n",
       "AW      1\n",
       "AI      1\n",
       "BL      1\n",
       "Name: iso_country, dtype: int64"
      ]
     },
     "execution_count": 53,
     "metadata": {},
     "output_type": "execute_result"
    }
   ],
   "source": [
    "airport[airport['continent'].isnull()][\"iso_country\"].value_counts()"
   ]
  },
  {
   "cell_type": "markdown",
   "metadata": {
    "editable": true
   },
   "source": [
    "A lot of nulls still remaining. Based on examination of iso_country values of US, CA, and MX, this may be an issue with reading in \"NA\" as a null value.\n",
    "\n",
    "Used [this link](https://dev.maxmind.com/geoip/legacy/codes/country_continent/) to determine a few of these countries' continent codes\n",
    "\n",
    "After reviewing some of the continent values, it appears these should probably all be NA for North America. Use pycountry package to get the continent values for these rows by looking at country values. Use the package to apply to all rows with nulls in the continent column."
   ]
  },
  {
   "cell_type": "code",
   "execution_count": 54,
   "metadata": {
    "editable": true
   },
   "outputs": [],
   "source": [
    "# Set to add country values to without duplicates\n",
    "na_set = set()\n",
    "\n",
    "# Dataframe with filtered master data where continent is null. Want to perform test only on this subset of data\n",
    "na_data = airport[airport['continent'].isnull()]['iso_country']\n",
    "\n",
    "# Error list created to see any countries where the pycountry package couldn't get a continent\n",
    "error_list = []"
   ]
  },
  {
   "cell_type": "code",
   "execution_count": 55,
   "metadata": {
    "editable": true
   },
   "outputs": [
    {
     "name": "stdout",
     "output_type": "stream",
     "text": [
      "Requirement already satisfied: pycountry_convert in /opt/conda/lib/python3.6/site-packages (0.7.2)\n",
      "Requirement already satisfied: pytest-cov>=2.5.1 in /opt/conda/lib/python3.6/site-packages (from pycountry_convert) (2.8.1)\n",
      "Requirement already satisfied: pprintpp>=0.3.0 in /opt/conda/lib/python3.6/site-packages (from pycountry_convert) (0.4.0)\n",
      "Requirement already satisfied: wheel>=0.30.0 in /opt/conda/lib/python3.6/site-packages (from pycountry_convert) (0.30.0)\n",
      "Requirement already satisfied: pytest>=3.4.0 in /opt/conda/lib/python3.6/site-packages (from pycountry_convert) (4.5.0)\n",
      "Requirement already satisfied: pycountry>=16.11.27.1 in /opt/conda/lib/python3.6/site-packages (from pycountry_convert) (19.8.18)\n",
      "Requirement already satisfied: pytest-mock>=1.6.3 in /opt/conda/lib/python3.6/site-packages (from pycountry_convert) (3.1.0)\n",
      "Requirement already satisfied: repoze.lru>=0.7 in /opt/conda/lib/python3.6/site-packages (from pycountry_convert) (0.7)\n",
      "Requirement already satisfied: coverage>=4.4 in /opt/conda/lib/python3.6/site-packages (from pytest-cov>=2.5.1->pycountry_convert) (5.1)\n",
      "Requirement already satisfied: atomicwrites>=1.0 in /opt/conda/lib/python3.6/site-packages (from pytest>=3.4.0->pycountry_convert) (1.3.0)\n",
      "Requirement already satisfied: setuptools in /opt/conda/lib/python3.6/site-packages (from pytest>=3.4.0->pycountry_convert) (38.4.0)\n",
      "Requirement already satisfied: six>=1.10.0 in /opt/conda/lib/python3.6/site-packages (from pytest>=3.4.0->pycountry_convert) (1.11.0)\n",
      "Requirement already satisfied: py>=1.5.0 in /opt/conda/lib/python3.6/site-packages (from pytest>=3.4.0->pycountry_convert) (1.8.0)\n",
      "Requirement already satisfied: pluggy!=0.10,<1.0,>=0.9 in /opt/conda/lib/python3.6/site-packages (from pytest>=3.4.0->pycountry_convert) (0.11.0)\n",
      "Requirement already satisfied: wcwidth in /opt/conda/lib/python3.6/site-packages (from pytest>=3.4.0->pycountry_convert) (0.1.7)\n",
      "Requirement already satisfied: attrs>=17.4.0 in /opt/conda/lib/python3.6/site-packages (from pytest>=3.4.0->pycountry_convert) (19.1.0)\n",
      "Requirement already satisfied: more-itertools>=4.0.0; python_version > \"2.7\" in /opt/conda/lib/python3.6/site-packages (from pytest>=3.4.0->pycountry_convert) (7.0.0)\n"
     ]
    }
   ],
   "source": [
    "#if need to install\n",
    "!pip install pycountry_convert"
   ]
  },
  {
   "cell_type": "code",
   "execution_count": 57,
   "metadata": {
    "editable": true
   },
   "outputs": [],
   "source": [
    "import pycountry_convert as pc\n",
    "\n",
    "# look through all country values in the filtered dataset\n",
    "for item in na_data:\n",
    "# use pycountry to get continent value based on a country value\n",
    "    try: \n",
    "        pc.country_alpha2_to_continent_code(item)\n",
    "# add to set. If duplicate country value, will not add since sets only hold unique values\n",
    "        na_set.add(item)\n",
    "# if pycountry throws an error, add the country name to the error list for further examination\n",
    "# continue running for loop after handling error\n",
    "    except:\n",
    "        error_list.append(item)\n",
    "        continue\n",
    "\n",
    "        \n",
    "# Create a new dataframe with a country column. Use the set we created so only one of each country value\n",
    "na_df = pd.DataFrame(list(na_set), columns = [\"country\"])\n",
    "\n",
    "\n",
    "# Make continent \"NA\" for all rows in dataset where country is the same as countries in the set created above\n",
    "for country in na_df['country']:\n",
    "    airport.loc[(airport['iso_country'] == country),'continent'] = \"NA\""
   ]
  },
  {
   "cell_type": "code",
   "execution_count": 59,
   "metadata": {
    "editable": true
   },
   "outputs": [
    {
     "name": "stdout",
     "output_type": "stream",
     "text": [
      "1 nulls remaining\n",
      "['SX', 'SX']\n"
     ]
    }
   ],
   "source": [
    "#check data to see remaining nulls\n",
    "print(str(airport['continent'].isnull().sum())+ ' nulls remaining')\n",
    "\n",
    "#see the country values that were not able to be processed using pycountry\n",
    "print(error_list)\n",
    "\n",
    "#SX only one that didn't work on the automated continent add, so add the continent code manually\n",
    "airport.loc[(airport['iso_country'] == 'SX'),'continent'] = \"NA\""
   ]
  },
  {
   "cell_type": "code",
   "execution_count": 60,
   "metadata": {
    "editable": true
   },
   "outputs": [
    {
     "data": {
      "text/plain": [
       "0"
      ]
     },
     "execution_count": 60,
     "metadata": {},
     "output_type": "execute_result"
    }
   ],
   "source": [
    "#verify no nulls after processing \"SX\"\n",
    "airport['continent'].isnull().sum()"
   ]
  },
  {
   "cell_type": "markdown",
   "metadata": {
    "editable": true
   },
   "source": [
    "Now no nulls in continent column."
   ]
  },
  {
   "cell_type": "markdown",
   "metadata": {
    "editable": true
   },
   "source": [
    "__iso_country:__\n",
    "\n",
    "Looking at first five rows of the iso_country column, it apears it may only values with a character count length of 2 digits. Determine if this is true for all values."
   ]
  },
  {
   "cell_type": "code",
   "execution_count": 61,
   "metadata": {
    "editable": true
   },
   "outputs": [
    {
     "data": {
      "text/plain": [
       "2    54828\n",
       "3      247\n",
       "Name: iso_country_length, dtype: int64"
      ]
     },
     "execution_count": 61,
     "metadata": {},
     "output_type": "execute_result"
    }
   ],
   "source": [
    "airport['iso_country_length'] = airport['iso_country'].map(str).apply(len)\n",
    "airport['iso_country_length'].value_counts()"
   ]
  },
  {
   "cell_type": "markdown",
   "metadata": {
    "editable": true
   },
   "source": [
    "Most values in the iso_countries column have a length of 2, but there are some iso_countries values with a length of 3. Look closer at all these rows"
   ]
  },
  {
   "cell_type": "code",
   "execution_count": 62,
   "metadata": {
    "editable": true
   },
   "outputs": [
    {
     "data": {
      "text/plain": [
       "Series([], Name: iso_country, dtype: int64)"
      ]
     },
     "execution_count": 62,
     "metadata": {},
     "output_type": "execute_result"
    }
   ],
   "source": [
    "#looks like all rows with a value length of 3 are NaNs\n",
    "airport[airport['iso_country_length'] == 3]['iso_country']\n",
    "airport[airport['iso_country_length'] == 3]['iso_country'].value_counts()"
   ]
  },
  {
   "cell_type": "markdown",
   "metadata": {
    "editable": true
   },
   "source": [
    "All with lengths of three are NaNs. "
   ]
  },
  {
   "cell_type": "code",
   "execution_count": 63,
   "metadata": {
    "editable": true
   },
   "outputs": [
    {
     "data": {
      "text/plain": [
       "2    54828\n",
       "Name: iso_country_length, dtype: int64"
      ]
     },
     "execution_count": 63,
     "metadata": {},
     "output_type": "execute_result"
    }
   ],
   "source": [
    "#check using notnull(). Are all counts now 2?\n",
    "airport[airport['iso_country'].notnull()]['iso_country_length'].value_counts() #all have counts of two when run during testing"
   ]
  },
  {
   "cell_type": "markdown",
   "metadata": {
    "editable": true
   },
   "source": [
    "All non-nulls for this column have a length of 2.\n",
    "\n",
    "So to investigate the nulls, look look at iso_region since this column had no nulls. Can we use it to derive the nulls in the iso_country column?"
   ]
  },
  {
   "cell_type": "code",
   "execution_count": 64,
   "metadata": {
    "editable": true
   },
   "outputs": [
    {
     "data": {
      "text/plain": [
       "US-TX     2277\n",
       "US-CA     1088\n",
       "US-FL      967\n",
       "US-PA      918\n",
       "BR-SP      907\n",
       "US-IL      902\n",
       "US-AK      829\n",
       "US-OH      799\n",
       "GB-ENG     726\n",
       "US-IN      697\n",
       "CA-ON      695\n",
       "US-NY      668\n",
       "BR-MT      635\n",
       "US-WI      624\n",
       "US-LA      592\n",
       "US-WA      578\n",
       "US-MO      578\n",
       "US-MN      569\n",
       "US-MI      549\n",
       "US-OK      537\n",
       "BR-MS      527\n",
       "US-GA      522\n",
       "AU-QLD     511\n",
       "US-VA      505\n",
       "US-CO      505\n",
       "US-OR      492\n",
       "US-NC      473\n",
       "CA-BC      467\n",
       "US-NJ      442\n",
       "US-KS      439\n",
       "          ... \n",
       "UG-401       1\n",
       "MH-UJA       1\n",
       "NI-JI        1\n",
       "UA-56        1\n",
       "IR-19        1\n",
       "GR-16        1\n",
       "SI-188       1\n",
       "TN-52        1\n",
       "JP-26        1\n",
       "PH-ZSI       1\n",
       "UY-FD        1\n",
       "LR-RI        1\n",
       "TH-50        1\n",
       "SY-HM        1\n",
       "HR-20        1\n",
       "LV-LM        1\n",
       "GH-EP        1\n",
       "MK-003       1\n",
       "PW-010       1\n",
       "MT-01        1\n",
       "TR-51        1\n",
       "SZ-MA        1\n",
       "TR-13        1\n",
       "SZ-HH        1\n",
       "BS-MG        1\n",
       "RU-KC        1\n",
       "TM-D         1\n",
       "SI-073       1\n",
       "AG-03        1\n",
       "UG-304       1\n",
       "Name: iso_region, Length: 2810, dtype: int64"
      ]
     },
     "execution_count": 64,
     "metadata": {},
     "output_type": "execute_result"
    }
   ],
   "source": [
    "airport['iso_region'].value_counts()"
   ]
  },
  {
   "cell_type": "markdown",
   "metadata": {
    "editable": true
   },
   "source": [
    "Test if we take the left two digits from the iso_region column and compare against the iso_country. Do this by:\n",
    "- Create a filtered dataframe so only values with iso_country values are being tested. Since we cannot test against null values\n",
    "- Derive an iso_country value by taking iso_region and taking the values left of the dash symbol\n",
    "- Compare the derived value with the actual iso_column value\n",
    "- Count the number of matches and mismatches\n",
    " - If all match, we can use iso_region to derive a country value"
   ]
  },
  {
   "cell_type": "code",
   "execution_count": 65,
   "metadata": {
    "editable": true
   },
   "outputs": [
    {
     "data": {
      "text/html": [
       "<div>\n",
       "<style scoped>\n",
       "    .dataframe tbody tr th:only-of-type {\n",
       "        vertical-align: middle;\n",
       "    }\n",
       "\n",
       "    .dataframe tbody tr th {\n",
       "        vertical-align: top;\n",
       "    }\n",
       "\n",
       "    .dataframe thead th {\n",
       "        text-align: right;\n",
       "    }\n",
       "</style>\n",
       "<table border=\"1\" class=\"dataframe\">\n",
       "  <thead>\n",
       "    <tr style=\"text-align: right;\">\n",
       "      <th></th>\n",
       "      <th>iso_country</th>\n",
       "      <th>iso_region</th>\n",
       "      <th>iso_region_leftdash</th>\n",
       "    </tr>\n",
       "  </thead>\n",
       "  <tbody>\n",
       "    <tr>\n",
       "      <th>0</th>\n",
       "      <td>US</td>\n",
       "      <td>US-PA</td>\n",
       "      <td>US</td>\n",
       "    </tr>\n",
       "    <tr>\n",
       "      <th>1</th>\n",
       "      <td>US</td>\n",
       "      <td>US-KS</td>\n",
       "      <td>US</td>\n",
       "    </tr>\n",
       "    <tr>\n",
       "      <th>2</th>\n",
       "      <td>US</td>\n",
       "      <td>US-AK</td>\n",
       "      <td>US</td>\n",
       "    </tr>\n",
       "    <tr>\n",
       "      <th>3</th>\n",
       "      <td>US</td>\n",
       "      <td>US-AL</td>\n",
       "      <td>US</td>\n",
       "    </tr>\n",
       "    <tr>\n",
       "      <th>4</th>\n",
       "      <td>US</td>\n",
       "      <td>US-AR</td>\n",
       "      <td>US</td>\n",
       "    </tr>\n",
       "  </tbody>\n",
       "</table>\n",
       "</div>"
      ],
      "text/plain": [
       "  iso_country iso_region iso_region_leftdash\n",
       "0          US      US-PA                  US\n",
       "1          US      US-KS                  US\n",
       "2          US      US-AK                  US\n",
       "3          US      US-AL                  US\n",
       "4          US      US-AR                  US"
      ]
     },
     "execution_count": 65,
     "metadata": {},
     "output_type": "execute_result"
    }
   ],
   "source": [
    "#filter for iso_countries that are not null\n",
    "test = airport[airport['iso_country'].notnull()][[\"iso_country\",\"iso_region\"]]\n",
    "\n",
    "#get the values left of the iso_region column and compare against the iso_country\n",
    "test['iso_region_leftdash'] = test.iso_region.str.split('-').str[0]\n",
    "test.head()\n"
   ]
  },
  {
   "cell_type": "code",
   "execution_count": 66,
   "metadata": {
    "editable": true
   },
   "outputs": [
    {
     "data": {
      "text/plain": [
       "True    54828\n",
       "Name: test, dtype: int64"
      ]
     },
     "execution_count": 66,
     "metadata": {},
     "output_type": "execute_result"
    }
   ],
   "source": [
    "def region_test(df):\n",
    "    if df['iso_region_leftdash'] == df['iso_country']:\n",
    "        return True\n",
    "    else:\n",
    "        return False\n",
    "\n",
    "test['test'] = test.apply(region_test, axis = 1)\n",
    "test['test'].value_counts()"
   ]
  },
  {
   "cell_type": "markdown",
   "metadata": {
    "editable": true
   },
   "source": [
    "The above code block shows that we can derive country from the iso_region since all test values were true.\n",
    "\n",
    "Now in the airport dataset, use iso_region to derive the country code where it is missing. Apply to rows with null values in the iso_country column. Created a new column to keep original column intact."
   ]
  },
  {
   "cell_type": "code",
   "execution_count": 67,
   "metadata": {
    "editable": true
   },
   "outputs": [
    {
     "name": "stdout",
     "output_type": "stream",
     "text": [
      "Series([], Name: iso_region_leftdash, dtype: int64)\n",
      "\n",
      "<class 'pandas.core.frame.DataFrame'>\n",
      "RangeIndex: 55075 entries, 0 to 55074\n",
      "Data columns (total 14 columns):\n",
      "ident                  55075 non-null object\n",
      "type                   55075 non-null object\n",
      "name                   55075 non-null object\n",
      "elevation_ft           48069 non-null float64\n",
      "continent              55075 non-null object\n",
      "iso_country            54828 non-null object\n",
      "iso_region             55075 non-null object\n",
      "municipality           49399 non-null object\n",
      "gps_code               41030 non-null object\n",
      "iata_code              9189 non-null object\n",
      "local_code             28686 non-null object\n",
      "coordinates            55075 non-null object\n",
      "iso_country_length     55075 non-null int64\n",
      "iso_region_leftdash    55075 non-null object\n",
      "dtypes: float64(1), int64(1), object(12)\n",
      "memory usage: 5.9+ MB\n",
      "None\n"
     ]
    }
   ],
   "source": [
    "#create a new column with the derived country column\n",
    "airport['iso_region_leftdash'] = airport.iso_region.str.split('-').str[0]\n",
    "print(airport[airport['iso_region_leftdash'].isnull()]['iso_region_leftdash'].value_counts()) #test to see if any nulls in newly calculated field\n",
    "# Resulted in no values. This show that the new calculation did not create any new null values\n",
    "\n",
    "print() # Space in output to make it look nicer\n",
    "\n",
    "print(airport.info()) # See high level overview of dataframe with new column"
   ]
  },
  {
   "cell_type": "markdown",
   "metadata": {
    "editable": true
   },
   "source": [
    "__Explore iata_code__"
   ]
  },
  {
   "cell_type": "code",
   "execution_count": 68,
   "metadata": {
    "editable": true
   },
   "outputs": [
    {
     "data": {
      "text/plain": [
       "0.83315478892419426"
      ]
     },
     "execution_count": 68,
     "metadata": {},
     "output_type": "execute_result"
    }
   ],
   "source": [
    "airport['iata_code'].isnull().sum() / len(airport.index)"
   ]
  },
  {
   "cell_type": "markdown",
   "metadata": {
    "editable": true
   },
   "source": [
    "83% of rows have a null value in IATA code. Although there are a lot of nulls, will keep this column since IATA codes are airport codes and provide useful information. We can use it to see how many people in the immigration data traveled through certain airports using the standardized coding. \n",
    "\n",
    "Also, not all people travel by airplane, and even those who do may not use an airport that has an IATA code if it is small or a military base. So a null value in this column may be able to provide information even if it does not have a value."
   ]
  },
  {
   "cell_type": "code",
   "execution_count": 11,
   "metadata": {
    "editable": true
   },
   "outputs": [
    {
     "data": {
      "text/html": [
       "<div>\n",
       "<style scoped>\n",
       "    .dataframe tbody tr th:only-of-type {\n",
       "        vertical-align: middle;\n",
       "    }\n",
       "\n",
       "    .dataframe tbody tr th {\n",
       "        vertical-align: top;\n",
       "    }\n",
       "\n",
       "    .dataframe thead th {\n",
       "        text-align: right;\n",
       "    }\n",
       "</style>\n",
       "<table border=\"1\" class=\"dataframe\">\n",
       "  <thead>\n",
       "    <tr style=\"text-align: right;\">\n",
       "      <th></th>\n",
       "      <th>ident</th>\n",
       "      <th>type</th>\n",
       "      <th>name</th>\n",
       "      <th>elevation_ft</th>\n",
       "      <th>continent</th>\n",
       "      <th>iso_country</th>\n",
       "      <th>iso_region</th>\n",
       "      <th>municipality</th>\n",
       "      <th>gps_code</th>\n",
       "      <th>iata_code</th>\n",
       "      <th>local_code</th>\n",
       "      <th>coordinates</th>\n",
       "    </tr>\n",
       "  </thead>\n",
       "  <tbody>\n",
       "    <tr>\n",
       "      <th>0</th>\n",
       "      <td>00A</td>\n",
       "      <td>heliport</td>\n",
       "      <td>Total Rf Heliport</td>\n",
       "      <td>11.0</td>\n",
       "      <td>NaN</td>\n",
       "      <td>US</td>\n",
       "      <td>US-PA</td>\n",
       "      <td>Bensalem</td>\n",
       "      <td>00A</td>\n",
       "      <td>NaN</td>\n",
       "      <td>00A</td>\n",
       "      <td>-74.93360137939453, 40.07080078125</td>\n",
       "    </tr>\n",
       "    <tr>\n",
       "      <th>1</th>\n",
       "      <td>00AA</td>\n",
       "      <td>small_airport</td>\n",
       "      <td>Aero B Ranch Airport</td>\n",
       "      <td>3435.0</td>\n",
       "      <td>NaN</td>\n",
       "      <td>US</td>\n",
       "      <td>US-KS</td>\n",
       "      <td>Leoti</td>\n",
       "      <td>00AA</td>\n",
       "      <td>NaN</td>\n",
       "      <td>00AA</td>\n",
       "      <td>-101.473911, 38.704022</td>\n",
       "    </tr>\n",
       "  </tbody>\n",
       "</table>\n",
       "</div>"
      ],
      "text/plain": [
       "  ident           type                  name  elevation_ft continent  \\\n",
       "0   00A       heliport     Total Rf Heliport          11.0       NaN   \n",
       "1  00AA  small_airport  Aero B Ranch Airport        3435.0       NaN   \n",
       "\n",
       "  iso_country iso_region municipality gps_code iata_code local_code  \\\n",
       "0          US      US-PA     Bensalem      00A       NaN        00A   \n",
       "1          US      US-KS        Leoti     00AA       NaN       00AA   \n",
       "\n",
       "                          coordinates  \n",
       "0  -74.93360137939453, 40.07080078125  \n",
       "1              -101.473911, 38.704022  "
      ]
     },
     "execution_count": 11,
     "metadata": {},
     "output_type": "execute_result"
    }
   ],
   "source": [
    "airport[airport['iata_code'].isnull()].head(2)"
   ]
  },
  {
   "cell_type": "code",
   "execution_count": 19,
   "metadata": {
    "editable": true
   },
   "outputs": [
    {
     "data": {
      "text/html": [
       "<div>\n",
       "<style scoped>\n",
       "    .dataframe tbody tr th:only-of-type {\n",
       "        vertical-align: middle;\n",
       "    }\n",
       "\n",
       "    .dataframe tbody tr th {\n",
       "        vertical-align: top;\n",
       "    }\n",
       "\n",
       "    .dataframe thead th {\n",
       "        text-align: right;\n",
       "    }\n",
       "</style>\n",
       "<table border=\"1\" class=\"dataframe\">\n",
       "  <thead>\n",
       "    <tr style=\"text-align: right;\">\n",
       "      <th></th>\n",
       "      <th>ident</th>\n",
       "      <th>type</th>\n",
       "      <th>name</th>\n",
       "      <th>elevation_ft</th>\n",
       "      <th>continent</th>\n",
       "      <th>iso_country</th>\n",
       "      <th>iso_region</th>\n",
       "      <th>municipality</th>\n",
       "      <th>gps_code</th>\n",
       "      <th>iata_code</th>\n",
       "      <th>local_code</th>\n",
       "      <th>coordinates</th>\n",
       "    </tr>\n",
       "  </thead>\n",
       "  <tbody>\n",
       "    <tr>\n",
       "      <th>29927</th>\n",
       "      <td>KSEA</td>\n",
       "      <td>large_airport</td>\n",
       "      <td>Seattle Tacoma International Airport</td>\n",
       "      <td>433.0</td>\n",
       "      <td>NaN</td>\n",
       "      <td>US</td>\n",
       "      <td>US-WA</td>\n",
       "      <td>Seattle</td>\n",
       "      <td>KSEA</td>\n",
       "      <td>SEA</td>\n",
       "      <td>SEA</td>\n",
       "      <td>-122.308998, 47.449001</td>\n",
       "    </tr>\n",
       "  </tbody>\n",
       "</table>\n",
       "</div>"
      ],
      "text/plain": [
       "      ident           type                                  name  \\\n",
       "29927  KSEA  large_airport  Seattle Tacoma International Airport   \n",
       "\n",
       "       elevation_ft continent iso_country iso_region municipality gps_code  \\\n",
       "29927         433.0       NaN          US      US-WA      Seattle     KSEA   \n",
       "\n",
       "      iata_code local_code             coordinates  \n",
       "29927       SEA        SEA  -122.308998, 47.449001  "
      ]
     },
     "execution_count": 19,
     "metadata": {},
     "output_type": "execute_result"
    }
   ],
   "source": [
    "airport[airport['iata_code'] == 'SEA']\n",
    "#airport['iata_code'].value_counts()"
   ]
  },
  {
   "cell_type": "markdown",
   "metadata": {
    "editable": true
   },
   "source": [
    "## Temperature data:\n",
    " - For the AverageTemperature column, temperature values with a date of 9/1/2013 have a lot of nulls. So scope this date range out when pulling data in for ETL"
   ]
  },
  {
   "cell_type": "code",
   "execution_count": 2,
   "metadata": {
    "editable": true
   },
   "outputs": [],
   "source": [
    "# Read in temp data\n",
    "fname = '../../data2/GlobalLandTemperaturesByCity.csv'\n",
    "temp = pd.read_csv(fname)"
   ]
  },
  {
   "cell_type": "code",
   "execution_count": 70,
   "metadata": {
    "editable": true
   },
   "outputs": [
    {
     "data": {
      "text/html": [
       "<div>\n",
       "<style scoped>\n",
       "    .dataframe tbody tr th:only-of-type {\n",
       "        vertical-align: middle;\n",
       "    }\n",
       "\n",
       "    .dataframe tbody tr th {\n",
       "        vertical-align: top;\n",
       "    }\n",
       "\n",
       "    .dataframe thead th {\n",
       "        text-align: right;\n",
       "    }\n",
       "</style>\n",
       "<table border=\"1\" class=\"dataframe\">\n",
       "  <thead>\n",
       "    <tr style=\"text-align: right;\">\n",
       "      <th></th>\n",
       "      <th>dt</th>\n",
       "      <th>AverageTemperature</th>\n",
       "      <th>AverageTemperatureUncertainty</th>\n",
       "      <th>City</th>\n",
       "      <th>Country</th>\n",
       "      <th>Latitude</th>\n",
       "      <th>Longitude</th>\n",
       "    </tr>\n",
       "  </thead>\n",
       "  <tbody>\n",
       "    <tr>\n",
       "      <th>0</th>\n",
       "      <td>1743-11-01</td>\n",
       "      <td>6.068</td>\n",
       "      <td>1.737</td>\n",
       "      <td>Århus</td>\n",
       "      <td>Denmark</td>\n",
       "      <td>57.05N</td>\n",
       "      <td>10.33E</td>\n",
       "    </tr>\n",
       "    <tr>\n",
       "      <th>1</th>\n",
       "      <td>1743-12-01</td>\n",
       "      <td>NaN</td>\n",
       "      <td>NaN</td>\n",
       "      <td>Århus</td>\n",
       "      <td>Denmark</td>\n",
       "      <td>57.05N</td>\n",
       "      <td>10.33E</td>\n",
       "    </tr>\n",
       "    <tr>\n",
       "      <th>2</th>\n",
       "      <td>1744-01-01</td>\n",
       "      <td>NaN</td>\n",
       "      <td>NaN</td>\n",
       "      <td>Århus</td>\n",
       "      <td>Denmark</td>\n",
       "      <td>57.05N</td>\n",
       "      <td>10.33E</td>\n",
       "    </tr>\n",
       "    <tr>\n",
       "      <th>3</th>\n",
       "      <td>1744-02-01</td>\n",
       "      <td>NaN</td>\n",
       "      <td>NaN</td>\n",
       "      <td>Århus</td>\n",
       "      <td>Denmark</td>\n",
       "      <td>57.05N</td>\n",
       "      <td>10.33E</td>\n",
       "    </tr>\n",
       "    <tr>\n",
       "      <th>4</th>\n",
       "      <td>1744-03-01</td>\n",
       "      <td>NaN</td>\n",
       "      <td>NaN</td>\n",
       "      <td>Århus</td>\n",
       "      <td>Denmark</td>\n",
       "      <td>57.05N</td>\n",
       "      <td>10.33E</td>\n",
       "    </tr>\n",
       "  </tbody>\n",
       "</table>\n",
       "</div>"
      ],
      "text/plain": [
       "           dt  AverageTemperature  AverageTemperatureUncertainty   City  \\\n",
       "0  1743-11-01               6.068                          1.737  Århus   \n",
       "1  1743-12-01                 NaN                            NaN  Århus   \n",
       "2  1744-01-01                 NaN                            NaN  Århus   \n",
       "3  1744-02-01                 NaN                            NaN  Århus   \n",
       "4  1744-03-01                 NaN                            NaN  Århus   \n",
       "\n",
       "   Country Latitude Longitude  \n",
       "0  Denmark   57.05N    10.33E  \n",
       "1  Denmark   57.05N    10.33E  \n",
       "2  Denmark   57.05N    10.33E  \n",
       "3  Denmark   57.05N    10.33E  \n",
       "4  Denmark   57.05N    10.33E  "
      ]
     },
     "execution_count": 70,
     "metadata": {},
     "output_type": "execute_result"
    }
   ],
   "source": [
    "temp.head()"
   ]
  },
  {
   "cell_type": "markdown",
   "metadata": {
    "editable": true
   },
   "source": [
    "Temperature data set only goes through September 1st 2013. We need to scope the fact table to only include data with dates before 9/1/2013."
   ]
  },
  {
   "cell_type": "code",
   "execution_count": 71,
   "metadata": {
    "editable": true
   },
   "outputs": [
    {
     "data": {
      "text/html": [
       "<div>\n",
       "<style scoped>\n",
       "    .dataframe tbody tr th:only-of-type {\n",
       "        vertical-align: middle;\n",
       "    }\n",
       "\n",
       "    .dataframe tbody tr th {\n",
       "        vertical-align: top;\n",
       "    }\n",
       "\n",
       "    .dataframe thead th {\n",
       "        text-align: right;\n",
       "    }\n",
       "</style>\n",
       "<table border=\"1\" class=\"dataframe\">\n",
       "  <thead>\n",
       "    <tr style=\"text-align: right;\">\n",
       "      <th></th>\n",
       "      <th>dt</th>\n",
       "      <th>AverageTemperature</th>\n",
       "      <th>AverageTemperatureUncertainty</th>\n",
       "      <th>City</th>\n",
       "      <th>Country</th>\n",
       "      <th>Latitude</th>\n",
       "      <th>Longitude</th>\n",
       "    </tr>\n",
       "  </thead>\n",
       "  <tbody>\n",
       "    <tr>\n",
       "      <th>7330815</th>\n",
       "      <td>2013-09-01</td>\n",
       "      <td>NaN</td>\n",
       "      <td>NaN</td>\n",
       "      <td>Tabriz</td>\n",
       "      <td>Iran</td>\n",
       "      <td>37.78N</td>\n",
       "      <td>46.78E</td>\n",
       "    </tr>\n",
       "    <tr>\n",
       "      <th>2684940</th>\n",
       "      <td>2013-09-01</td>\n",
       "      <td>NaN</td>\n",
       "      <td>NaN</td>\n",
       "      <td>Guangyuan</td>\n",
       "      <td>China</td>\n",
       "      <td>32.95N</td>\n",
       "      <td>106.28E</td>\n",
       "    </tr>\n",
       "    <tr>\n",
       "      <th>2682622</th>\n",
       "      <td>2013-09-01</td>\n",
       "      <td>NaN</td>\n",
       "      <td>NaN</td>\n",
       "      <td>Guangshui</td>\n",
       "      <td>China</td>\n",
       "      <td>31.35N</td>\n",
       "      <td>113.09E</td>\n",
       "    </tr>\n",
       "    <tr>\n",
       "      <th>2707002</th>\n",
       "      <td>2013-09-01</td>\n",
       "      <td>21.815</td>\n",
       "      <td>1.233</td>\n",
       "      <td>Guatemala City</td>\n",
       "      <td>Guatemala</td>\n",
       "      <td>15.27N</td>\n",
       "      <td>90.83W</td>\n",
       "    </tr>\n",
       "    <tr>\n",
       "      <th>8599211</th>\n",
       "      <td>2013-09-01</td>\n",
       "      <td>NaN</td>\n",
       "      <td>NaN</td>\n",
       "      <td>Zwolle</td>\n",
       "      <td>Netherlands</td>\n",
       "      <td>52.24N</td>\n",
       "      <td>5.26E</td>\n",
       "    </tr>\n",
       "  </tbody>\n",
       "</table>\n",
       "</div>"
      ],
      "text/plain": [
       "                 dt  AverageTemperature  AverageTemperatureUncertainty  \\\n",
       "7330815  2013-09-01                 NaN                            NaN   \n",
       "2684940  2013-09-01                 NaN                            NaN   \n",
       "2682622  2013-09-01                 NaN                            NaN   \n",
       "2707002  2013-09-01              21.815                          1.233   \n",
       "8599211  2013-09-01                 NaN                            NaN   \n",
       "\n",
       "                   City      Country Latitude Longitude  \n",
       "7330815          Tabriz         Iran   37.78N    46.78E  \n",
       "2684940       Guangyuan        China   32.95N   106.28E  \n",
       "2682622       Guangshui        China   31.35N   113.09E  \n",
       "2707002  Guatemala City    Guatemala   15.27N    90.83W  \n",
       "8599211          Zwolle  Netherlands   52.24N     5.26E  "
      ]
     },
     "execution_count": 71,
     "metadata": {},
     "output_type": "execute_result"
    }
   ],
   "source": [
    "temp.sort_values('dt').tail()"
   ]
  },
  {
   "cell_type": "code",
   "execution_count": 72,
   "metadata": {
    "editable": true
   },
   "outputs": [
    {
     "name": "stdout",
     "output_type": "stream",
     "text": [
      "<class 'pandas.core.frame.DataFrame'>\n",
      "RangeIndex: 8599212 entries, 0 to 8599211\n",
      "Data columns (total 7 columns):\n",
      "dt                               object\n",
      "AverageTemperature               float64\n",
      "AverageTemperatureUncertainty    float64\n",
      "City                             object\n",
      "Country                          object\n",
      "Latitude                         object\n",
      "Longitude                        object\n",
      "dtypes: float64(2), object(5)\n",
      "memory usage: 459.2+ MB\n"
     ]
    }
   ],
   "source": [
    "temp.info()"
   ]
  },
  {
   "cell_type": "code",
   "execution_count": 73,
   "metadata": {
    "editable": true
   },
   "outputs": [
    {
     "data": {
      "text/plain": [
       "364130"
      ]
     },
     "execution_count": 73,
     "metadata": {},
     "output_type": "execute_result"
    }
   ],
   "source": [
    "temp['AverageTemperature'].isnull().sum()"
   ]
  },
  {
   "cell_type": "markdown",
   "metadata": {
    "editable": true
   },
   "source": [
    ".info() didn't give number of records so loop through all columns to get some information"
   ]
  },
  {
   "cell_type": "code",
   "execution_count": 74,
   "metadata": {
    "editable": true
   },
   "outputs": [
    {
     "name": "stdout",
     "output_type": "stream",
     "text": [
      "dt column contains:\n",
      "Total records: 8,599,212\n",
      "Nulls: 0\n",
      "Proportion of Nulls in Data: 0.00%\n",
      "\n",
      "AverageTemperature column contains:\n",
      "Total records: 8,599,212\n",
      "Nulls: 364,130\n",
      "Proportion of Nulls in Data: 4.23%\n",
      "\n",
      "AverageTemperatureUncertainty column contains:\n",
      "Total records: 8,599,212\n",
      "Nulls: 364,130\n",
      "Proportion of Nulls in Data: 4.23%\n",
      "\n",
      "City column contains:\n",
      "Total records: 8,599,212\n",
      "Nulls: 0\n",
      "Proportion of Nulls in Data: 0.00%\n",
      "\n",
      "Country column contains:\n",
      "Total records: 8,599,212\n",
      "Nulls: 0\n",
      "Proportion of Nulls in Data: 0.00%\n",
      "\n",
      "Latitude column contains:\n",
      "Total records: 8,599,212\n",
      "Nulls: 0\n",
      "Proportion of Nulls in Data: 0.00%\n",
      "\n",
      "Longitude column contains:\n",
      "Total records: 8,599,212\n",
      "Nulls: 0\n",
      "Proportion of Nulls in Data: 0.00%\n",
      "\n"
     ]
    }
   ],
   "source": [
    "for column in temp.columns:\n",
    "    print(column + ' column contains:')\n",
    "    print('Total records: '+ str('{:,}'.format(len(temp.index))))\n",
    "    print('Nulls: ' + str('{:,}'.format(temp[column].isnull().sum())))\n",
    "    print('Proportion of Nulls in Data: ' + str(\"{:.2%}\".format(temp[column].isnull().sum() / len(temp.index))))\n",
    "    print()"
   ]
  },
  {
   "cell_type": "markdown",
   "metadata": {
    "editable": true
   },
   "source": [
    "Column of interest is the AverageTemperature and AverageTemperatureUncertainty columns. These have nulls so will look at these rows"
   ]
  },
  {
   "cell_type": "code",
   "execution_count": 3,
   "metadata": {
    "editable": true
   },
   "outputs": [
    {
     "data": {
      "text/plain": [
       "2013-09-01    3070\n",
       "1898-03-01      21\n",
       "1898-02-01      24\n",
       "1893-06-01      11\n",
       "1893-05-01      11\n",
       "1893-04-01      11\n",
       "1893-03-01      11\n",
       "1893-02-01       8\n",
       "1893-01-01       8\n",
       "1892-12-01       8\n",
       "Name: dt, dtype: int64"
      ]
     },
     "execution_count": 3,
     "metadata": {},
     "output_type": "execute_result"
    }
   ],
   "source": [
    "temp[temp['AverageTemperature'].isnull()]['dt'].value_counts().sort_index(ascending = False).head(10)"
   ]
  },
  {
   "cell_type": "code",
   "execution_count": 76,
   "metadata": {
    "editable": true
   },
   "outputs": [
    {
     "data": {
      "text/plain": [
       "2013-09-01    3070\n",
       "1898-03-01      21\n",
       "1898-02-01      24\n",
       "1893-06-01      11\n",
       "1893-05-01      11\n",
       "1893-04-01      11\n",
       "1893-03-01      11\n",
       "1893-02-01       8\n",
       "1893-01-01       8\n",
       "1892-12-01       8\n",
       "Name: dt, dtype: int64"
      ]
     },
     "execution_count": 76,
     "metadata": {},
     "output_type": "execute_result"
    }
   ],
   "source": [
    "temp[temp['AverageTemperatureUncertainty'].isnull()]['dt'].value_counts().sort_index(ascending = False).head(10)"
   ]
  },
  {
   "cell_type": "markdown",
   "metadata": {
    "editable": true
   },
   "source": [
    "It looks like there are a lot of nulls with dates of 9/1/2013. Should exclude these from our data import. \n",
    "\n",
    "All other nulls are from the 1898 and older"
   ]
  },
  {
   "cell_type": "markdown",
   "metadata": {
    "editable": true
   },
   "source": [
    "Country is another column to look at. This is one of the columns that we will need to use to join our temperature dimension table with the fact table"
   ]
  },
  {
   "cell_type": "code",
   "execution_count": 77,
   "metadata": {
    "editable": true
   },
   "outputs": [
    {
     "name": "stdout",
     "output_type": "stream",
     "text": [
      "159 countries\n"
     ]
    },
    {
     "data": {
      "text/plain": [
       "India             1014906\n",
       "China              827802\n",
       "United States      687289\n",
       "Brazil             475580\n",
       "Russia             461234\n",
       "Japan              358669\n",
       "Indonesia          323255\n",
       "Germany            262359\n",
       "United Kingdom     220252\n",
       "Mexico             209560\n",
       "Name: Country, dtype: int64"
      ]
     },
     "execution_count": 77,
     "metadata": {},
     "output_type": "execute_result"
    }
   ],
   "source": [
    "print(str(len(temp['Country'].value_counts())) + ' countries')\n",
    "temp['Country'].value_counts().head(10)"
   ]
  },
  {
   "cell_type": "code",
   "execution_count": 17,
   "metadata": {
    "editable": true
   },
   "outputs": [],
   "source": [
    "# Use pycountry to get ISO country codes\n",
    "import pycountry\n",
    "\n",
    "# create a dictionary with key = country name and value = country code\n",
    "countries = {}\n",
    "for country in pycountry.countries:\n",
    "    countries[country.name] = country.alpha_2"
   ]
  },
  {
   "cell_type": "code",
   "execution_count": 79,
   "metadata": {
    "editable": true
   },
   "outputs": [],
   "source": [
    "#add country code to temp df\n",
    "temp['country_code'] = temp['Country'].map(countries)"
   ]
  },
  {
   "cell_type": "code",
   "execution_count": 80,
   "metadata": {
    "editable": true
   },
   "outputs": [
    {
     "data": {
      "text/html": [
       "<div>\n",
       "<style scoped>\n",
       "    .dataframe tbody tr th:only-of-type {\n",
       "        vertical-align: middle;\n",
       "    }\n",
       "\n",
       "    .dataframe tbody tr th {\n",
       "        vertical-align: top;\n",
       "    }\n",
       "\n",
       "    .dataframe thead th {\n",
       "        text-align: right;\n",
       "    }\n",
       "</style>\n",
       "<table border=\"1\" class=\"dataframe\">\n",
       "  <thead>\n",
       "    <tr style=\"text-align: right;\">\n",
       "      <th></th>\n",
       "      <th>Country</th>\n",
       "      <th>country_code</th>\n",
       "    </tr>\n",
       "  </thead>\n",
       "  <tbody>\n",
       "    <tr>\n",
       "      <th>0</th>\n",
       "      <td>Denmark</td>\n",
       "      <td>DK</td>\n",
       "    </tr>\n",
       "    <tr>\n",
       "      <th>1</th>\n",
       "      <td>Denmark</td>\n",
       "      <td>DK</td>\n",
       "    </tr>\n",
       "    <tr>\n",
       "      <th>2</th>\n",
       "      <td>Denmark</td>\n",
       "      <td>DK</td>\n",
       "    </tr>\n",
       "    <tr>\n",
       "      <th>3</th>\n",
       "      <td>Denmark</td>\n",
       "      <td>DK</td>\n",
       "    </tr>\n",
       "    <tr>\n",
       "      <th>4</th>\n",
       "      <td>Denmark</td>\n",
       "      <td>DK</td>\n",
       "    </tr>\n",
       "  </tbody>\n",
       "</table>\n",
       "</div>"
      ],
      "text/plain": [
       "   Country country_code\n",
       "0  Denmark           DK\n",
       "1  Denmark           DK\n",
       "2  Denmark           DK\n",
       "3  Denmark           DK\n",
       "4  Denmark           DK"
      ]
     },
     "execution_count": 80,
     "metadata": {},
     "output_type": "execute_result"
    }
   ],
   "source": [
    "temp[['Country','country_code']].head()"
   ]
  },
  {
   "cell_type": "code",
   "execution_count": 81,
   "metadata": {
    "editable": true
   },
   "outputs": [
    {
     "name": "stdout",
     "output_type": "stream",
     "text": [
      "Countries without derived country code: 20\n"
     ]
    },
    {
     "data": {
      "text/plain": [
       "Russia                                461234\n",
       "Iran                                  151651\n",
       "Venezuela                              91080\n",
       "Vietnam                                66330\n",
       "Taiwan                                 62190\n",
       "Burma                                  50566\n",
       "Congo (Democratic Republic Of The)     44547\n",
       "Tanzania                               31440\n",
       "Côte D'Ivoire                          25701\n",
       "Syria                                  18056\n",
       "Bosnia And Herzegovina                 16195\n",
       "Czech Republic                         16195\n",
       "Bolivia                                11406\n",
       "Moldova                                 9717\n",
       "Macedonia                               6478\n",
       "Reunion                                 2721\n",
       "Laos                                    2371\n",
       "South Korea                             2097\n",
       "Guinea Bissau                           1977\n",
       "Swaziland                               1881\n",
       "Name: Country, dtype: int64"
      ]
     },
     "execution_count": 81,
     "metadata": {},
     "output_type": "execute_result"
    }
   ],
   "source": [
    "# See if there are any nulls in the country_code column and what their associated country vales are\n",
    "print('Number of countries without derived country code: ' + str(len(temp[temp['country_code'].isnull()]['Country'].value_counts())))\n",
    "temp[temp['country_code'].isnull()]['Country'].value_counts()"
   ]
  },
  {
   "cell_type": "markdown",
   "metadata": {
    "editable": true
   },
   "source": [
    "These countries did not have an associated country code from the pycountry module.\n",
    "\n",
    "Will use another method to get the country codes of these."
   ]
  },
  {
   "cell_type": "code",
   "execution_count": 82,
   "metadata": {
    "editable": true
   },
   "outputs": [],
   "source": [
    "country_set = set()\n",
    "for country in temp[temp['country_code'].isnull()]['Country']:\n",
    "    country_set.add(country)"
   ]
  },
  {
   "cell_type": "code",
   "execution_count": 83,
   "metadata": {
    "editable": true
   },
   "outputs": [
    {
     "data": {
      "text/plain": [
       "{'Bolivia',\n",
       " 'Bosnia And Herzegovina',\n",
       " 'Burma',\n",
       " 'Congo (Democratic Republic Of The)',\n",
       " 'Czech Republic',\n",
       " \"Côte D'Ivoire\",\n",
       " 'Guinea Bissau',\n",
       " 'Iran',\n",
       " 'Laos',\n",
       " 'Macedonia',\n",
       " 'Moldova',\n",
       " 'Reunion',\n",
       " 'Russia',\n",
       " 'South Korea',\n",
       " 'Swaziland',\n",
       " 'Syria',\n",
       " 'Taiwan',\n",
       " 'Tanzania',\n",
       " 'Venezuela',\n",
       " 'Vietnam'}"
      ]
     },
     "execution_count": 83,
     "metadata": {},
     "output_type": "execute_result"
    }
   ],
   "source": [
    "country_set"
   ]
  },
  {
   "cell_type": "markdown",
   "metadata": {
    "editable": true
   },
   "source": [
    "Manually give each of these a country code based on [this link](https://stackoverflow.com/questions/16253060/how-to-convert-country-names-to-iso-3166-1-alpha-2-values-using-python) to determine a few of these countries' continent codes\n"
   ]
  },
  {
   "cell_type": "code",
   "execution_count": 84,
   "metadata": {
    "editable": true
   },
   "outputs": [],
   "source": [
    "extra_codes = {'Bolivia' : 'BO',\n",
    " 'Bosnia And Herzegovina' : 'BA',\n",
    " 'Burma' : 'MM',\n",
    " 'Congo (Democratic Republic Of The)' : 'CD',\n",
    " 'Czech Republic' : 'CZ',\n",
    " \"Côte D'Ivoire\" : 'CI',\n",
    " 'Guinea Bissau' : 'GW',\n",
    " 'Iran' : 'IR',\n",
    " 'Laos' : 'LA',\n",
    " 'Macedonia' : 'MK',\n",
    " 'Moldova' : 'MD',\n",
    " 'Reunion' : 'RE',\n",
    " 'Russia' : 'RU',\n",
    " 'South Korea' : 'KR',\n",
    " 'Swaziland' : 'SZ',\n",
    " 'Syria' : 'SY',\n",
    " 'Taiwan' : 'TW',\n",
    " 'Tanzania' : 'TZ',\n",
    " 'Venezuela' : 'VE',\n",
    " 'Vietnam' : 'VN'}"
   ]
  },
  {
   "cell_type": "code",
   "execution_count": 85,
   "metadata": {
    "editable": true
   },
   "outputs": [],
   "source": [
    "# Add above dictionary onto previous dictionary created from pycountry\n",
    "countries.update(extra_codes)\n",
    "temp['country_code'] = temp['Country'].map(countries)"
   ]
  },
  {
   "cell_type": "code",
   "execution_count": 86,
   "metadata": {
    "editable": true
   },
   "outputs": [
    {
     "name": "stdout",
     "output_type": "stream",
     "text": [
      "0\n"
     ]
    },
    {
     "data": {
      "text/plain": [
       "Series([], Name: Country, dtype: int64)"
      ]
     },
     "execution_count": 86,
     "metadata": {},
     "output_type": "execute_result"
    }
   ],
   "source": [
    "# Verify nulls changed\n",
    "print(temp['country_code'].isnull().sum())\n",
    "temp[temp['country_code'].isnull()]['Country'].value_counts()"
   ]
  },
  {
   "cell_type": "markdown",
   "metadata": {
    "editable": true
   },
   "source": [
    "This was difficult since many of the country names in the dataset have different naming conventions than the pycountry module. For example, Bolivia is saved as \"Bolivia, Plurinational State of\", which makes using our data with the module difficult"
   ]
  },
  {
   "cell_type": "markdown",
   "metadata": {
    "editable": true
   },
   "source": [
    "__Now look at state data__\n",
    "\n",
    "Using same code from city section"
   ]
  },
  {
   "cell_type": "code",
   "execution_count": 87,
   "metadata": {
    "editable": true
   },
   "outputs": [],
   "source": [
    "# Read in temp data\n",
    "fname = './GlobalLandTemperaturesByState.csv'\n",
    "temp = pd.read_csv(fname)"
   ]
  },
  {
   "cell_type": "code",
   "execution_count": 88,
   "metadata": {
    "editable": true
   },
   "outputs": [
    {
     "data": {
      "text/html": [
       "<div>\n",
       "<style scoped>\n",
       "    .dataframe tbody tr th:only-of-type {\n",
       "        vertical-align: middle;\n",
       "    }\n",
       "\n",
       "    .dataframe tbody tr th {\n",
       "        vertical-align: top;\n",
       "    }\n",
       "\n",
       "    .dataframe thead th {\n",
       "        text-align: right;\n",
       "    }\n",
       "</style>\n",
       "<table border=\"1\" class=\"dataframe\">\n",
       "  <thead>\n",
       "    <tr style=\"text-align: right;\">\n",
       "      <th></th>\n",
       "      <th>dt</th>\n",
       "      <th>AverageTemperature</th>\n",
       "      <th>AverageTemperatureUncertainty</th>\n",
       "      <th>State</th>\n",
       "      <th>Country</th>\n",
       "    </tr>\n",
       "  </thead>\n",
       "  <tbody>\n",
       "    <tr>\n",
       "      <th>0</th>\n",
       "      <td>1855-05-01</td>\n",
       "      <td>25.544</td>\n",
       "      <td>1.171</td>\n",
       "      <td>Acre</td>\n",
       "      <td>Brazil</td>\n",
       "    </tr>\n",
       "    <tr>\n",
       "      <th>1</th>\n",
       "      <td>1855-06-01</td>\n",
       "      <td>24.228</td>\n",
       "      <td>1.103</td>\n",
       "      <td>Acre</td>\n",
       "      <td>Brazil</td>\n",
       "    </tr>\n",
       "    <tr>\n",
       "      <th>2</th>\n",
       "      <td>1855-07-01</td>\n",
       "      <td>24.371</td>\n",
       "      <td>1.044</td>\n",
       "      <td>Acre</td>\n",
       "      <td>Brazil</td>\n",
       "    </tr>\n",
       "    <tr>\n",
       "      <th>3</th>\n",
       "      <td>1855-08-01</td>\n",
       "      <td>25.427</td>\n",
       "      <td>1.073</td>\n",
       "      <td>Acre</td>\n",
       "      <td>Brazil</td>\n",
       "    </tr>\n",
       "    <tr>\n",
       "      <th>4</th>\n",
       "      <td>1855-09-01</td>\n",
       "      <td>25.675</td>\n",
       "      <td>1.014</td>\n",
       "      <td>Acre</td>\n",
       "      <td>Brazil</td>\n",
       "    </tr>\n",
       "  </tbody>\n",
       "</table>\n",
       "</div>"
      ],
      "text/plain": [
       "           dt  AverageTemperature  AverageTemperatureUncertainty State Country\n",
       "0  1855-05-01              25.544                          1.171  Acre  Brazil\n",
       "1  1855-06-01              24.228                          1.103  Acre  Brazil\n",
       "2  1855-07-01              24.371                          1.044  Acre  Brazil\n",
       "3  1855-08-01              25.427                          1.073  Acre  Brazil\n",
       "4  1855-09-01              25.675                          1.014  Acre  Brazil"
      ]
     },
     "execution_count": 88,
     "metadata": {},
     "output_type": "execute_result"
    }
   ],
   "source": [
    "temp.head()"
   ]
  },
  {
   "cell_type": "code",
   "execution_count": 89,
   "metadata": {
    "editable": true
   },
   "outputs": [
    {
     "data": {
      "text/html": [
       "<div>\n",
       "<style scoped>\n",
       "    .dataframe tbody tr th:only-of-type {\n",
       "        vertical-align: middle;\n",
       "    }\n",
       "\n",
       "    .dataframe tbody tr th {\n",
       "        vertical-align: top;\n",
       "    }\n",
       "\n",
       "    .dataframe thead th {\n",
       "        text-align: right;\n",
       "    }\n",
       "</style>\n",
       "<table border=\"1\" class=\"dataframe\">\n",
       "  <thead>\n",
       "    <tr style=\"text-align: right;\">\n",
       "      <th></th>\n",
       "      <th>dt</th>\n",
       "      <th>AverageTemperature</th>\n",
       "      <th>AverageTemperatureUncertainty</th>\n",
       "      <th>State</th>\n",
       "      <th>Country</th>\n",
       "    </tr>\n",
       "  </thead>\n",
       "  <tbody>\n",
       "    <tr>\n",
       "      <th>552051</th>\n",
       "      <td>2013-09-01</td>\n",
       "      <td>26.408</td>\n",
       "      <td>1.112</td>\n",
       "      <td>Texas</td>\n",
       "      <td>United States</td>\n",
       "    </tr>\n",
       "    <tr>\n",
       "      <th>594124</th>\n",
       "      <td>2013-09-01</td>\n",
       "      <td>NaN</td>\n",
       "      <td>NaN</td>\n",
       "      <td>Victoria</td>\n",
       "      <td>Australia</td>\n",
       "    </tr>\n",
       "    <tr>\n",
       "      <th>567074</th>\n",
       "      <td>2013-09-01</td>\n",
       "      <td>NaN</td>\n",
       "      <td>NaN</td>\n",
       "      <td>Tuva</td>\n",
       "      <td>Russia</td>\n",
       "    </tr>\n",
       "    <tr>\n",
       "      <th>261547</th>\n",
       "      <td>2013-09-01</td>\n",
       "      <td>NaN</td>\n",
       "      <td>NaN</td>\n",
       "      <td>Krasnoyarsk</td>\n",
       "      <td>Russia</td>\n",
       "    </tr>\n",
       "    <tr>\n",
       "      <th>645674</th>\n",
       "      <td>2013-09-01</td>\n",
       "      <td>NaN</td>\n",
       "      <td>NaN</td>\n",
       "      <td>Zhejiang</td>\n",
       "      <td>China</td>\n",
       "    </tr>\n",
       "  </tbody>\n",
       "</table>\n",
       "</div>"
      ],
      "text/plain": [
       "                dt  AverageTemperature  AverageTemperatureUncertainty  \\\n",
       "552051  2013-09-01              26.408                          1.112   \n",
       "594124  2013-09-01                 NaN                            NaN   \n",
       "567074  2013-09-01                 NaN                            NaN   \n",
       "261547  2013-09-01                 NaN                            NaN   \n",
       "645674  2013-09-01                 NaN                            NaN   \n",
       "\n",
       "              State        Country  \n",
       "552051        Texas  United States  \n",
       "594124     Victoria      Australia  \n",
       "567074         Tuva         Russia  \n",
       "261547  Krasnoyarsk         Russia  \n",
       "645674     Zhejiang          China  "
      ]
     },
     "execution_count": 89,
     "metadata": {},
     "output_type": "execute_result"
    }
   ],
   "source": [
    "temp.sort_values('dt').tail()"
   ]
  },
  {
   "cell_type": "code",
   "execution_count": 90,
   "metadata": {
    "editable": true
   },
   "outputs": [
    {
     "name": "stdout",
     "output_type": "stream",
     "text": [
      "<class 'pandas.core.frame.DataFrame'>\n",
      "RangeIndex: 645675 entries, 0 to 645674\n",
      "Data columns (total 5 columns):\n",
      "dt                               645675 non-null object\n",
      "AverageTemperature               620027 non-null float64\n",
      "AverageTemperatureUncertainty    620027 non-null float64\n",
      "State                            645675 non-null object\n",
      "Country                          645675 non-null object\n",
      "dtypes: float64(2), object(3)\n",
      "memory usage: 24.6+ MB\n"
     ]
    }
   ],
   "source": [
    "temp.info()"
   ]
  },
  {
   "cell_type": "code",
   "execution_count": 91,
   "metadata": {
    "editable": true
   },
   "outputs": [
    {
     "data": {
      "text/plain": [
       "25648"
      ]
     },
     "execution_count": 91,
     "metadata": {},
     "output_type": "execute_result"
    }
   ],
   "source": [
    "temp['AverageTemperature'].isnull().sum()"
   ]
  },
  {
   "cell_type": "code",
   "execution_count": 92,
   "metadata": {
    "editable": true
   },
   "outputs": [
    {
     "name": "stdout",
     "output_type": "stream",
     "text": [
      "dt column contains:\n",
      "Total records: 645,675\n",
      "Nulls: 0\n",
      "Proportion of Nulls in Data: 0.00%\n",
      "\n",
      "AverageTemperature column contains:\n",
      "Total records: 645,675\n",
      "Nulls: 25,648\n",
      "Proportion of Nulls in Data: 3.97%\n",
      "\n",
      "AverageTemperatureUncertainty column contains:\n",
      "Total records: 645,675\n",
      "Nulls: 25,648\n",
      "Proportion of Nulls in Data: 3.97%\n",
      "\n",
      "State column contains:\n",
      "Total records: 645,675\n",
      "Nulls: 0\n",
      "Proportion of Nulls in Data: 0.00%\n",
      "\n",
      "Country column contains:\n",
      "Total records: 645,675\n",
      "Nulls: 0\n",
      "Proportion of Nulls in Data: 0.00%\n",
      "\n"
     ]
    }
   ],
   "source": [
    "for column in temp.columns:\n",
    "    print(column + ' column contains:')\n",
    "    print('Total records: '+ str('{:,}'.format(len(temp.index))))\n",
    "    print('Nulls: ' + str('{:,}'.format(temp[column].isnull().sum())))\n",
    "    print('Proportion of Nulls in Data: ' + str(\"{:.2%}\".format(temp[column].isnull().sum() / len(temp.index))))\n",
    "    print()"
   ]
  },
  {
   "cell_type": "code",
   "execution_count": 93,
   "metadata": {
    "editable": true
   },
   "outputs": [
    {
     "data": {
      "text/plain": [
       "2013-09-01    181\n",
       "1893-06-01      1\n",
       "1893-05-01      1\n",
       "1893-04-01      1\n",
       "1893-03-01      1\n",
       "1893-02-01      1\n",
       "1893-01-01      1\n",
       "1892-12-01      1\n",
       "1892-11-01      1\n",
       "1892-10-01      1\n",
       "Name: dt, dtype: int64"
      ]
     },
     "execution_count": 93,
     "metadata": {},
     "output_type": "execute_result"
    }
   ],
   "source": [
    "temp[temp['AverageTemperature'].isnull()]['dt'].value_counts().sort_index(ascending = False).head(10)"
   ]
  },
  {
   "cell_type": "code",
   "execution_count": 94,
   "metadata": {
    "editable": true
   },
   "outputs": [
    {
     "data": {
      "text/plain": [
       "2013-09-01    181\n",
       "1893-06-01      1\n",
       "1893-05-01      1\n",
       "1893-04-01      1\n",
       "1893-03-01      1\n",
       "1893-02-01      1\n",
       "1893-01-01      1\n",
       "1892-12-01      1\n",
       "1892-11-01      1\n",
       "1892-10-01      1\n",
       "Name: dt, dtype: int64"
      ]
     },
     "execution_count": 94,
     "metadata": {},
     "output_type": "execute_result"
    }
   ],
   "source": [
    "temp[temp['AverageTemperatureUncertainty'].isnull()]['dt'].value_counts().sort_index(ascending = False).head(10)"
   ]
  },
  {
   "cell_type": "code",
   "execution_count": 95,
   "metadata": {
    "editable": true
   },
   "outputs": [
    {
     "name": "stdout",
     "output_type": "stream",
     "text": [
      "7 countries\n"
     ]
    },
    {
     "data": {
      "text/plain": [
       "Russia           254972\n",
       "United States    149745\n",
       "India             86664\n",
       "China             68506\n",
       "Canada            35358\n",
       "Brazil            34328\n",
       "Australia         16102\n",
       "Name: Country, dtype: int64"
      ]
     },
     "execution_count": 95,
     "metadata": {},
     "output_type": "execute_result"
    }
   ],
   "source": [
    "print(str(len(temp['Country'].value_counts())) + ' countries')\n",
    "temp['Country'].value_counts().head(10)"
   ]
  },
  {
   "cell_type": "code",
   "execution_count": 96,
   "metadata": {
    "editable": true
   },
   "outputs": [],
   "source": [
    "#add country code to\n",
    "temp['country_code'] = temp['Country'].map(countries)"
   ]
  },
  {
   "cell_type": "code",
   "execution_count": 97,
   "metadata": {
    "editable": true
   },
   "outputs": [
    {
     "data": {
      "text/html": [
       "<div>\n",
       "<style scoped>\n",
       "    .dataframe tbody tr th:only-of-type {\n",
       "        vertical-align: middle;\n",
       "    }\n",
       "\n",
       "    .dataframe tbody tr th {\n",
       "        vertical-align: top;\n",
       "    }\n",
       "\n",
       "    .dataframe thead th {\n",
       "        text-align: right;\n",
       "    }\n",
       "</style>\n",
       "<table border=\"1\" class=\"dataframe\">\n",
       "  <thead>\n",
       "    <tr style=\"text-align: right;\">\n",
       "      <th></th>\n",
       "      <th>Country</th>\n",
       "      <th>country_code</th>\n",
       "    </tr>\n",
       "  </thead>\n",
       "  <tbody>\n",
       "    <tr>\n",
       "      <th>0</th>\n",
       "      <td>Brazil</td>\n",
       "      <td>BR</td>\n",
       "    </tr>\n",
       "    <tr>\n",
       "      <th>1</th>\n",
       "      <td>Brazil</td>\n",
       "      <td>BR</td>\n",
       "    </tr>\n",
       "    <tr>\n",
       "      <th>2</th>\n",
       "      <td>Brazil</td>\n",
       "      <td>BR</td>\n",
       "    </tr>\n",
       "    <tr>\n",
       "      <th>3</th>\n",
       "      <td>Brazil</td>\n",
       "      <td>BR</td>\n",
       "    </tr>\n",
       "    <tr>\n",
       "      <th>4</th>\n",
       "      <td>Brazil</td>\n",
       "      <td>BR</td>\n",
       "    </tr>\n",
       "  </tbody>\n",
       "</table>\n",
       "</div>"
      ],
      "text/plain": [
       "  Country country_code\n",
       "0  Brazil           BR\n",
       "1  Brazil           BR\n",
       "2  Brazil           BR\n",
       "3  Brazil           BR\n",
       "4  Brazil           BR"
      ]
     },
     "execution_count": 97,
     "metadata": {},
     "output_type": "execute_result"
    }
   ],
   "source": [
    "temp[['Country','country_code']].head()"
   ]
  },
  {
   "cell_type": "code",
   "execution_count": 98,
   "metadata": {
    "editable": true
   },
   "outputs": [
    {
     "name": "stdout",
     "output_type": "stream",
     "text": [
      "Countries without derived country code: 0\n"
     ]
    },
    {
     "data": {
      "text/plain": [
       "Series([], Name: Country, dtype: int64)"
      ]
     },
     "execution_count": 98,
     "metadata": {},
     "output_type": "execute_result"
    }
   ],
   "source": [
    "# See if there are any nulls in the country_code column and what their associated country vales are\n",
    "print('Countries without derived country code: ' + str(len(temp[temp['country_code'].isnull()]['Country'].value_counts())))\n",
    "temp[temp['country_code'].isnull()]['Country'].value_counts()"
   ]
  },
  {
   "cell_type": "markdown",
   "metadata": {
    "editable": true
   },
   "source": [
    "__Now look at country data__\n",
    "\n",
    "Using same code from city section"
   ]
  },
  {
   "cell_type": "code",
   "execution_count": 30,
   "metadata": {
    "editable": true
   },
   "outputs": [],
   "source": [
    "# Read in temp data\n",
    "fname = './GlobalLandTemperaturesByCountry.csv'\n",
    "temp = pd.read_csv(fname)"
   ]
  },
  {
   "cell_type": "code",
   "execution_count": 38,
   "metadata": {
    "editable": true
   },
   "outputs": [],
   "source": [
    "temp['year']  = pd.DatetimeIndex(temp['dt']).year"
   ]
  },
  {
   "cell_type": "code",
   "execution_count": 39,
   "metadata": {
    "editable": true
   },
   "outputs": [
    {
     "data": {
      "text/html": [
       "<div>\n",
       "<style scoped>\n",
       "    .dataframe tbody tr th:only-of-type {\n",
       "        vertical-align: middle;\n",
       "    }\n",
       "\n",
       "    .dataframe tbody tr th {\n",
       "        vertical-align: top;\n",
       "    }\n",
       "\n",
       "    .dataframe thead th {\n",
       "        text-align: right;\n",
       "    }\n",
       "</style>\n",
       "<table border=\"1\" class=\"dataframe\">\n",
       "  <thead>\n",
       "    <tr style=\"text-align: right;\">\n",
       "      <th></th>\n",
       "      <th>dt</th>\n",
       "      <th>AverageTemperature</th>\n",
       "      <th>AverageTemperatureUncertainty</th>\n",
       "      <th>Country</th>\n",
       "      <th>country_code</th>\n",
       "      <th>year</th>\n",
       "    </tr>\n",
       "  </thead>\n",
       "  <tbody>\n",
       "    <tr>\n",
       "      <th>0</th>\n",
       "      <td>1743-11-01</td>\n",
       "      <td>4.384</td>\n",
       "      <td>2.294</td>\n",
       "      <td>Åland</td>\n",
       "      <td>NaN</td>\n",
       "      <td>1743</td>\n",
       "    </tr>\n",
       "    <tr>\n",
       "      <th>1</th>\n",
       "      <td>1743-12-01</td>\n",
       "      <td>NaN</td>\n",
       "      <td>NaN</td>\n",
       "      <td>Åland</td>\n",
       "      <td>NaN</td>\n",
       "      <td>1743</td>\n",
       "    </tr>\n",
       "    <tr>\n",
       "      <th>2</th>\n",
       "      <td>1744-01-01</td>\n",
       "      <td>NaN</td>\n",
       "      <td>NaN</td>\n",
       "      <td>Åland</td>\n",
       "      <td>NaN</td>\n",
       "      <td>1744</td>\n",
       "    </tr>\n",
       "    <tr>\n",
       "      <th>3</th>\n",
       "      <td>1744-02-01</td>\n",
       "      <td>NaN</td>\n",
       "      <td>NaN</td>\n",
       "      <td>Åland</td>\n",
       "      <td>NaN</td>\n",
       "      <td>1744</td>\n",
       "    </tr>\n",
       "    <tr>\n",
       "      <th>4</th>\n",
       "      <td>1744-03-01</td>\n",
       "      <td>NaN</td>\n",
       "      <td>NaN</td>\n",
       "      <td>Åland</td>\n",
       "      <td>NaN</td>\n",
       "      <td>1744</td>\n",
       "    </tr>\n",
       "  </tbody>\n",
       "</table>\n",
       "</div>"
      ],
      "text/plain": [
       "           dt  AverageTemperature  AverageTemperatureUncertainty Country  \\\n",
       "0  1743-11-01               4.384                          2.294   Åland   \n",
       "1  1743-12-01                 NaN                            NaN   Åland   \n",
       "2  1744-01-01                 NaN                            NaN   Åland   \n",
       "3  1744-02-01                 NaN                            NaN   Åland   \n",
       "4  1744-03-01                 NaN                            NaN   Åland   \n",
       "\n",
       "  country_code  year  \n",
       "0          NaN  1743  \n",
       "1          NaN  1743  \n",
       "2          NaN  1744  \n",
       "3          NaN  1744  \n",
       "4          NaN  1744  "
      ]
     },
     "execution_count": 39,
     "metadata": {},
     "output_type": "execute_result"
    }
   ],
   "source": [
    "temp.head()"
   ]
  },
  {
   "cell_type": "code",
   "execution_count": 5,
   "metadata": {
    "editable": true
   },
   "outputs": [
    {
     "data": {
      "text/html": [
       "<div>\n",
       "<style scoped>\n",
       "    .dataframe tbody tr th:only-of-type {\n",
       "        vertical-align: middle;\n",
       "    }\n",
       "\n",
       "    .dataframe tbody tr th {\n",
       "        vertical-align: top;\n",
       "    }\n",
       "\n",
       "    .dataframe thead th {\n",
       "        text-align: right;\n",
       "    }\n",
       "</style>\n",
       "<table border=\"1\" class=\"dataframe\">\n",
       "  <thead>\n",
       "    <tr style=\"text-align: right;\">\n",
       "      <th></th>\n",
       "      <th>dt</th>\n",
       "      <th>AverageTemperature</th>\n",
       "      <th>AverageTemperatureUncertainty</th>\n",
       "      <th>Country</th>\n",
       "    </tr>\n",
       "  </thead>\n",
       "  <tbody>\n",
       "    <tr>\n",
       "      <th>176113</th>\n",
       "      <td>2013-09-01</td>\n",
       "      <td>NaN</td>\n",
       "      <td>NaN</td>\n",
       "      <td>Federated States Of Micronesia</td>\n",
       "    </tr>\n",
       "    <tr>\n",
       "      <th>505395</th>\n",
       "      <td>2013-09-01</td>\n",
       "      <td>NaN</td>\n",
       "      <td>NaN</td>\n",
       "      <td>Swaziland</td>\n",
       "    </tr>\n",
       "    <tr>\n",
       "      <th>174686</th>\n",
       "      <td>2013-09-01</td>\n",
       "      <td>NaN</td>\n",
       "      <td>NaN</td>\n",
       "      <td>Faroe Islands</td>\n",
       "    </tr>\n",
       "    <tr>\n",
       "      <th>409790</th>\n",
       "      <td>2013-09-01</td>\n",
       "      <td>NaN</td>\n",
       "      <td>NaN</td>\n",
       "      <td>Paraguay</td>\n",
       "    </tr>\n",
       "    <tr>\n",
       "      <th>577461</th>\n",
       "      <td>2013-09-01</td>\n",
       "      <td>NaN</td>\n",
       "      <td>NaN</td>\n",
       "      <td>Zimbabwe</td>\n",
       "    </tr>\n",
       "  </tbody>\n",
       "</table>\n",
       "</div>"
      ],
      "text/plain": [
       "                dt  AverageTemperature  AverageTemperatureUncertainty  \\\n",
       "176113  2013-09-01                 NaN                            NaN   \n",
       "505395  2013-09-01                 NaN                            NaN   \n",
       "174686  2013-09-01                 NaN                            NaN   \n",
       "409790  2013-09-01                 NaN                            NaN   \n",
       "577461  2013-09-01                 NaN                            NaN   \n",
       "\n",
       "                               Country  \n",
       "176113  Federated States Of Micronesia  \n",
       "505395                       Swaziland  \n",
       "174686                   Faroe Islands  \n",
       "409790                        Paraguay  \n",
       "577461                        Zimbabwe  "
      ]
     },
     "execution_count": 5,
     "metadata": {},
     "output_type": "execute_result"
    }
   ],
   "source": [
    "temp.sort_values('dt').tail()"
   ]
  },
  {
   "cell_type": "code",
   "execution_count": 6,
   "metadata": {
    "editable": true
   },
   "outputs": [
    {
     "name": "stdout",
     "output_type": "stream",
     "text": [
      "<class 'pandas.core.frame.DataFrame'>\n",
      "RangeIndex: 577462 entries, 0 to 577461\n",
      "Data columns (total 4 columns):\n",
      "dt                               577462 non-null object\n",
      "AverageTemperature               544811 non-null float64\n",
      "AverageTemperatureUncertainty    545550 non-null float64\n",
      "Country                          577462 non-null object\n",
      "dtypes: float64(2), object(2)\n",
      "memory usage: 17.6+ MB\n"
     ]
    }
   ],
   "source": [
    "temp.info()"
   ]
  },
  {
   "cell_type": "code",
   "execution_count": 7,
   "metadata": {
    "editable": true
   },
   "outputs": [
    {
     "data": {
      "text/plain": [
       "32651"
      ]
     },
     "execution_count": 7,
     "metadata": {},
     "output_type": "execute_result"
    }
   ],
   "source": [
    "temp['AverageTemperature'].isnull().sum()"
   ]
  },
  {
   "cell_type": "code",
   "execution_count": 8,
   "metadata": {
    "editable": true
   },
   "outputs": [
    {
     "name": "stdout",
     "output_type": "stream",
     "text": [
      "dt column contains:\n",
      "Total records: 577,462\n",
      "Nulls: 0\n",
      "Proportion of Nulls in Data: 0.00%\n",
      "\n",
      "AverageTemperature column contains:\n",
      "Total records: 577,462\n",
      "Nulls: 32,651\n",
      "Proportion of Nulls in Data: 5.65%\n",
      "\n",
      "AverageTemperatureUncertainty column contains:\n",
      "Total records: 577,462\n",
      "Nulls: 31,912\n",
      "Proportion of Nulls in Data: 5.53%\n",
      "\n",
      "Country column contains:\n",
      "Total records: 577,462\n",
      "Nulls: 0\n",
      "Proportion of Nulls in Data: 0.00%\n",
      "\n"
     ]
    }
   ],
   "source": [
    "for column in temp.columns:\n",
    "    print(column + ' column contains:')\n",
    "    print('Total records: '+ str('{:,}'.format(len(temp.index))))\n",
    "    print('Nulls: ' + str('{:,}'.format(temp[column].isnull().sum())))\n",
    "    print('Proportion of Nulls in Data: ' + str(\"{:.2%}\".format(temp[column].isnull().sum() / len(temp.index))))\n",
    "    print()"
   ]
  },
  {
   "cell_type": "code",
   "execution_count": 9,
   "metadata": {
    "editable": true
   },
   "outputs": [
    {
     "data": {
      "text/plain": [
       "2013-09-01    222\n",
       "2013-08-01      1\n",
       "2013-07-01      1\n",
       "2013-06-01      1\n",
       "2013-05-01      1\n",
       "2013-04-01      1\n",
       "2013-03-01      1\n",
       "2013-02-01      1\n",
       "2013-01-01      1\n",
       "2012-12-01      1\n",
       "Name: dt, dtype: int64"
      ]
     },
     "execution_count": 9,
     "metadata": {},
     "output_type": "execute_result"
    }
   ],
   "source": [
    "temp[temp['AverageTemperature'].isnull()]['dt'].value_counts().sort_index(ascending = False).head(10)"
   ]
  },
  {
   "cell_type": "code",
   "execution_count": 14,
   "metadata": {
    "editable": true
   },
   "outputs": [
    {
     "data": {
      "text/html": [
       "<div>\n",
       "<style scoped>\n",
       "    .dataframe tbody tr th:only-of-type {\n",
       "        vertical-align: middle;\n",
       "    }\n",
       "\n",
       "    .dataframe tbody tr th {\n",
       "        vertical-align: top;\n",
       "    }\n",
       "\n",
       "    .dataframe thead th {\n",
       "        text-align: right;\n",
       "    }\n",
       "</style>\n",
       "<table border=\"1\" class=\"dataframe\">\n",
       "  <thead>\n",
       "    <tr style=\"text-align: right;\">\n",
       "      <th></th>\n",
       "      <th>dt</th>\n",
       "      <th>AverageTemperature</th>\n",
       "      <th>AverageTemperatureUncertainty</th>\n",
       "      <th>Country</th>\n",
       "    </tr>\n",
       "  </thead>\n",
       "  <tbody>\n",
       "    <tr>\n",
       "      <th>23186</th>\n",
       "      <td>2013-07-01</td>\n",
       "      <td>NaN</td>\n",
       "      <td>0.673</td>\n",
       "      <td>Antarctica</td>\n",
       "    </tr>\n",
       "  </tbody>\n",
       "</table>\n",
       "</div>"
      ],
      "text/plain": [
       "               dt  AverageTemperature  AverageTemperatureUncertainty  \\\n",
       "23186  2013-07-01                 NaN                          0.673   \n",
       "\n",
       "          Country  \n",
       "23186  Antarctica  "
      ]
     },
     "execution_count": 14,
     "metadata": {},
     "output_type": "execute_result"
    }
   ],
   "source": [
    "temp[(temp['AverageTemperature'].isnull()) & (temp['dt'] == '2013-07-01')]"
   ]
  },
  {
   "cell_type": "code",
   "execution_count": 15,
   "metadata": {
    "editable": true
   },
   "outputs": [
    {
     "name": "stdout",
     "output_type": "stream",
     "text": [
      "243 countries\n"
     ]
    },
    {
     "data": {
      "text/plain": [
       "Poland             3239\n",
       "Finland            3239\n",
       "Macedonia          3239\n",
       "Faroe Islands      3239\n",
       "Austria            3239\n",
       "United Kingdom     3239\n",
       "Europe             3239\n",
       "Liechtenstein      3239\n",
       "Monaco             3239\n",
       "France (Europe)    3239\n",
       "Name: Country, dtype: int64"
      ]
     },
     "execution_count": 15,
     "metadata": {},
     "output_type": "execute_result"
    }
   ],
   "source": [
    "# See total number of countries and first 10\n",
    "print(str(len(temp['Country'].value_counts())) + ' countries')\n",
    "temp['Country'].value_counts().head(10)"
   ]
  },
  {
   "cell_type": "code",
   "execution_count": 32,
   "metadata": {
    "editable": true
   },
   "outputs": [],
   "source": [
    "# add country code to dataframe\n",
    "\n",
    "# first make all countries in temp dataframe column uppercase\n",
    "\n",
    "temp['country_code'] = temp['Country'].map(countries)"
   ]
  },
  {
   "cell_type": "code",
   "execution_count": 33,
   "metadata": {
    "editable": true
   },
   "outputs": [
    {
     "data": {
      "text/html": [
       "<div>\n",
       "<style scoped>\n",
       "    .dataframe tbody tr th:only-of-type {\n",
       "        vertical-align: middle;\n",
       "    }\n",
       "\n",
       "    .dataframe tbody tr th {\n",
       "        vertical-align: top;\n",
       "    }\n",
       "\n",
       "    .dataframe thead th {\n",
       "        text-align: right;\n",
       "    }\n",
       "</style>\n",
       "<table border=\"1\" class=\"dataframe\">\n",
       "  <thead>\n",
       "    <tr style=\"text-align: right;\">\n",
       "      <th></th>\n",
       "      <th>Country</th>\n",
       "      <th>country_code</th>\n",
       "    </tr>\n",
       "  </thead>\n",
       "  <tbody>\n",
       "    <tr>\n",
       "      <th>0</th>\n",
       "      <td>Åland</td>\n",
       "      <td>NaN</td>\n",
       "    </tr>\n",
       "    <tr>\n",
       "      <th>1</th>\n",
       "      <td>Åland</td>\n",
       "      <td>NaN</td>\n",
       "    </tr>\n",
       "    <tr>\n",
       "      <th>2</th>\n",
       "      <td>Åland</td>\n",
       "      <td>NaN</td>\n",
       "    </tr>\n",
       "    <tr>\n",
       "      <th>3</th>\n",
       "      <td>Åland</td>\n",
       "      <td>NaN</td>\n",
       "    </tr>\n",
       "    <tr>\n",
       "      <th>4</th>\n",
       "      <td>Åland</td>\n",
       "      <td>NaN</td>\n",
       "    </tr>\n",
       "  </tbody>\n",
       "</table>\n",
       "</div>"
      ],
      "text/plain": [
       "  Country country_code\n",
       "0   Åland          NaN\n",
       "1   Åland          NaN\n",
       "2   Åland          NaN\n",
       "3   Åland          NaN\n",
       "4   Åland          NaN"
      ]
     },
     "execution_count": 33,
     "metadata": {},
     "output_type": "execute_result"
    }
   ],
   "source": [
    "temp[['Country','country_code']].head()"
   ]
  },
  {
   "cell_type": "code",
   "execution_count": 43,
   "metadata": {
    "editable": true
   },
   "outputs": [
    {
     "name": "stdout",
     "output_type": "stream",
     "text": [
      "Countries without derived country code: 59\n"
     ]
    },
    {
     "data": {
      "text/plain": [
       "Europe                                       3239\n",
       "Denmark (Europe)                             3239\n",
       "Czech Republic                               3239\n",
       "Saint Pierre And Miquelon                    3239\n",
       "Åland                                        3239\n",
       "France (Europe)                              3239\n",
       "Moldova                                      3239\n",
       "Isle Of Man                                  3239\n",
       "Macedonia                                    3239\n",
       "Bosnia And Herzegovina                       3239\n",
       "United Kingdom (Europe)                      3239\n",
       "Netherlands (Europe)                         3239\n",
       "Svalbard And Jan Mayen                       3033\n",
       "North America                                2941\n",
       "Reunion                                      2721\n",
       "Syria                                        2460\n",
       "Gaza Strip                                   2460\n",
       "Russia                                       2421\n",
       "Burma                                        2371\n",
       "Laos                                         2371\n",
       "Asia                                         2370\n",
       "Turks And Caicas Islands                     2289\n",
       "Virgin Islands                               2277\n",
       "Saint Kitts And Nevis                        2277\n",
       "Sint Maarten                                 2277\n",
       "Venezuela                                    2277\n",
       "Antigua And Barbuda                          2277\n",
       "Trinidad And Tobago                          2277\n",
       "Saint Vincent And The Grenadines             2277\n",
       "British Virgin Islands                       2277\n",
       "Saint Martin                                 2277\n",
       "Bonaire, Saint Eustatius And Saba            2277\n",
       "Baker Island                                 2265\n",
       "Vietnam                                      2265\n",
       "Iran                                         2120\n",
       "North Korea                                  2097\n",
       "Macau                                        2085\n",
       "South Korea                                  2073\n",
       "Taiwan                                       2073\n",
       "Palestina                                    2049\n",
       "Côte D'Ivoire                                1977\n",
       "Cape Verde                                   1977\n",
       "Guinea Bissau                                1977\n",
       "Africa                                       1965\n",
       "Tanzania                                     1965\n",
       "Congo (Democratic Republic Of The)           1965\n",
       "South America                                1953\n",
       "Oceania                                      1935\n",
       "Bolivia                                      1901\n",
       "Sao Tome And Principe                        1893\n",
       "Swaziland                                    1881\n",
       "Falkland Islands (Islas Malvinas)            1845\n",
       "South Georgia And The South Sandwich Isla    1666\n",
       "Timor Leste                                  1627\n",
       "Kingman Reef                                 1569\n",
       "Palmyra Atoll                                1569\n",
       "Federated States Of Micronesia               1427\n",
       "Heard Island And Mcdonald Islands             788\n",
       "French Southern And Antarctic Lands           788\n",
       "Name: Country, dtype: int64"
      ]
     },
     "execution_count": 43,
     "metadata": {},
     "output_type": "execute_result"
    }
   ],
   "source": [
    "# See if there are any nulls in the country_code column and what their associated country vales are\n",
    "print('Countries without derived country code: ' + str(len(temp[(temp['country_code'].isnull()) & (temp['year'] == 2013)]['Country'].value_counts())))\n",
    "temp[temp['country_code'].isnull()]['Country'].value_counts()"
   ]
  },
  {
   "cell_type": "markdown",
   "metadata": {
    "editable": true
   },
   "source": [
    "#### For temperature data, should use state and country data.\n",
    "- State can be joined with which state someone arrives to in the United States\n",
    "- Country can be joined with the immigration data on where the traveler is coming from. It is difficult to get state level data for other countries that will make a good join. This way we can still get temperature data about where the person is arriving from."
   ]
  }
 ],
 "metadata": {
  "kernelspec": {
   "display_name": "Python 3",
   "language": "python",
   "name": "python3"
  },
  "language_info": {
   "codemirror_mode": {
    "name": "ipython",
    "version": 3
   },
   "file_extension": ".py",
   "mimetype": "text/x-python",
   "name": "python",
   "nbconvert_exporter": "python",
   "pygments_lexer": "ipython3",
   "version": "3.6.3"
  }
 },
 "nbformat": 4,
 "nbformat_minor": 4
}
